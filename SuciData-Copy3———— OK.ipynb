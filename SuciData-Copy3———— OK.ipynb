{
 "cells": [
  {
   "cell_type": "markdown",
   "metadata": {},
   "source": [
    "# Data Visualization and Management Assignment "
   ]
  },
  {
   "cell_type": "markdown",
   "metadata": {},
   "source": []
  },
  {
   "cell_type": "markdown",
   "metadata": {},
   "source": [
    "---------"
   ]
  },
  {
   "cell_type": "code",
   "execution_count": 51,
   "metadata": {},
   "outputs": [
    {
     "name": "stderr",
     "output_type": "stream",
     "text": [
      "UsageError: Line magic function `%` not found.\n"
     ]
    }
   ],
   "source": [
    "import pandas as pd\n",
    "import matplotlib.pyplot as plt\n",
    "import warnings \n",
    "warnings.filterwarnings(\"ignore\")\n",
    "% matplotlib inline"
   ]
  },
  {
   "cell_type": "code",
   "execution_count": 2,
   "metadata": {},
   "outputs": [],
   "source": [
    "# Importing dataset files\n",
    "sdata = pd.read_csv(\"/Users/rzanabdullah/Desktop/Master/NewData/SuicideRate.csv\")\n",
    "udata = pd.read_csv(\"/Users/rzanabdullah/Desktop/Master/NewData/UnempRate.csv\")"
   ]
  },
  {
   "cell_type": "markdown",
   "metadata": {},
   "source": [
    "# Exploring and cleaning Suicide.csv dataset"
   ]
  },
  {
   "cell_type": "code",
   "execution_count": 3,
   "metadata": {},
   "outputs": [
    {
     "data": {
      "text/html": [
       "<div>\n",
       "<style scoped>\n",
       "    .dataframe tbody tr th:only-of-type {\n",
       "        vertical-align: middle;\n",
       "    }\n",
       "\n",
       "    .dataframe tbody tr th {\n",
       "        vertical-align: top;\n",
       "    }\n",
       "\n",
       "    .dataframe thead th {\n",
       "        text-align: right;\n",
       "    }\n",
       "</style>\n",
       "<table border=\"1\" class=\"dataframe\">\n",
       "  <thead>\n",
       "    <tr style=\"text-align: right;\">\n",
       "      <th></th>\n",
       "      <th>country</th>\n",
       "      <th>year</th>\n",
       "      <th>sex</th>\n",
       "      <th>age</th>\n",
       "      <th>suicides_no</th>\n",
       "      <th>population</th>\n",
       "      <th>suicides/100k pop</th>\n",
       "      <th>country-year</th>\n",
       "      <th>HDI for year</th>\n",
       "      <th>gdp_for_year ($)</th>\n",
       "      <th>gdp_per_capita ($)</th>\n",
       "      <th>generation</th>\n",
       "    </tr>\n",
       "  </thead>\n",
       "  <tbody>\n",
       "    <tr>\n",
       "      <th>0</th>\n",
       "      <td>Albania</td>\n",
       "      <td>1987</td>\n",
       "      <td>male</td>\n",
       "      <td>15-24 years</td>\n",
       "      <td>21</td>\n",
       "      <td>312900</td>\n",
       "      <td>6.71</td>\n",
       "      <td>Albania1987</td>\n",
       "      <td>NaN</td>\n",
       "      <td>2,156,624,900</td>\n",
       "      <td>796</td>\n",
       "      <td>Generation X</td>\n",
       "    </tr>\n",
       "    <tr>\n",
       "      <th>1</th>\n",
       "      <td>Albania</td>\n",
       "      <td>1987</td>\n",
       "      <td>male</td>\n",
       "      <td>35-54 years</td>\n",
       "      <td>16</td>\n",
       "      <td>308000</td>\n",
       "      <td>5.19</td>\n",
       "      <td>Albania1987</td>\n",
       "      <td>NaN</td>\n",
       "      <td>2,156,624,900</td>\n",
       "      <td>796</td>\n",
       "      <td>Silent</td>\n",
       "    </tr>\n",
       "    <tr>\n",
       "      <th>2</th>\n",
       "      <td>Albania</td>\n",
       "      <td>1987</td>\n",
       "      <td>female</td>\n",
       "      <td>15-24 years</td>\n",
       "      <td>14</td>\n",
       "      <td>289700</td>\n",
       "      <td>4.83</td>\n",
       "      <td>Albania1987</td>\n",
       "      <td>NaN</td>\n",
       "      <td>2,156,624,900</td>\n",
       "      <td>796</td>\n",
       "      <td>Generation X</td>\n",
       "    </tr>\n",
       "    <tr>\n",
       "      <th>3</th>\n",
       "      <td>Albania</td>\n",
       "      <td>1987</td>\n",
       "      <td>male</td>\n",
       "      <td>75+ years</td>\n",
       "      <td>1</td>\n",
       "      <td>21800</td>\n",
       "      <td>4.59</td>\n",
       "      <td>Albania1987</td>\n",
       "      <td>NaN</td>\n",
       "      <td>2,156,624,900</td>\n",
       "      <td>796</td>\n",
       "      <td>G.I. Generation</td>\n",
       "    </tr>\n",
       "    <tr>\n",
       "      <th>4</th>\n",
       "      <td>Albania</td>\n",
       "      <td>1987</td>\n",
       "      <td>male</td>\n",
       "      <td>25-34 years</td>\n",
       "      <td>9</td>\n",
       "      <td>274300</td>\n",
       "      <td>3.28</td>\n",
       "      <td>Albania1987</td>\n",
       "      <td>NaN</td>\n",
       "      <td>2,156,624,900</td>\n",
       "      <td>796</td>\n",
       "      <td>Boomers</td>\n",
       "    </tr>\n",
       "  </tbody>\n",
       "</table>\n",
       "</div>"
      ],
      "text/plain": [
       "   country  year     sex          age  suicides_no  population  \\\n",
       "0  Albania  1987    male  15-24 years           21      312900   \n",
       "1  Albania  1987    male  35-54 years           16      308000   \n",
       "2  Albania  1987  female  15-24 years           14      289700   \n",
       "3  Albania  1987    male    75+ years            1       21800   \n",
       "4  Albania  1987    male  25-34 years            9      274300   \n",
       "\n",
       "   suicides/100k pop country-year  HDI for year  gdp_for_year ($)   \\\n",
       "0               6.71  Albania1987           NaN      2,156,624,900   \n",
       "1               5.19  Albania1987           NaN      2,156,624,900   \n",
       "2               4.83  Albania1987           NaN      2,156,624,900   \n",
       "3               4.59  Albania1987           NaN      2,156,624,900   \n",
       "4               3.28  Albania1987           NaN      2,156,624,900   \n",
       "\n",
       "   gdp_per_capita ($)       generation  \n",
       "0                 796     Generation X  \n",
       "1                 796           Silent  \n",
       "2                 796     Generation X  \n",
       "3                 796  G.I. Generation  \n",
       "4                 796          Boomers  "
      ]
     },
     "execution_count": 3,
     "metadata": {},
     "output_type": "execute_result"
    }
   ],
   "source": [
    "sdata.head()"
   ]
  },
  {
   "cell_type": "code",
   "execution_count": 4,
   "metadata": {},
   "outputs": [
    {
     "name": "stdout",
     "output_type": "stream",
     "text": [
      "<class 'pandas.core.frame.DataFrame'>\n",
      "RangeIndex: 27820 entries, 0 to 27819\n",
      "Data columns (total 12 columns):\n",
      "country               27820 non-null object\n",
      "year                  27820 non-null int64\n",
      "sex                   27820 non-null object\n",
      "age                   27820 non-null object\n",
      "suicides_no           27820 non-null int64\n",
      "population            27820 non-null int64\n",
      "suicides/100k pop     27820 non-null float64\n",
      "country-year          27820 non-null object\n",
      "HDI for year          8364 non-null float64\n",
      " gdp_for_year ($)     27820 non-null object\n",
      "gdp_per_capita ($)    27820 non-null int64\n",
      "generation            27820 non-null object\n",
      "dtypes: float64(2), int64(4), object(6)\n",
      "memory usage: 2.5+ MB\n"
     ]
    }
   ],
   "source": [
    "sdata.info()"
   ]
  },
  {
   "cell_type": "code",
   "execution_count": 5,
   "metadata": {},
   "outputs": [
    {
     "data": {
      "text/plain": [
       "country                   0\n",
       "year                      0\n",
       "sex                       0\n",
       "age                       0\n",
       "suicides_no               0\n",
       "population                0\n",
       "suicides/100k pop         0\n",
       "country-year              0\n",
       "HDI for year          19456\n",
       " gdp_for_year ($)         0\n",
       "gdp_per_capita ($)        0\n",
       "generation                0\n",
       "dtype: int64"
      ]
     },
     "execution_count": 5,
     "metadata": {},
     "output_type": "execute_result"
    }
   ],
   "source": [
    "#Explore missing data\n",
    "sdata.isnull().sum()"
   ]
  },
  {
   "cell_type": "code",
   "execution_count": 6,
   "metadata": {
    "scrolled": true
   },
   "outputs": [
    {
     "data": {
      "text/html": [
       "<div>\n",
       "<style scoped>\n",
       "    .dataframe tbody tr th:only-of-type {\n",
       "        vertical-align: middle;\n",
       "    }\n",
       "\n",
       "    .dataframe tbody tr th {\n",
       "        vertical-align: top;\n",
       "    }\n",
       "\n",
       "    .dataframe thead th {\n",
       "        text-align: right;\n",
       "    }\n",
       "</style>\n",
       "<table border=\"1\" class=\"dataframe\">\n",
       "  <thead>\n",
       "    <tr style=\"text-align: right;\">\n",
       "      <th></th>\n",
       "      <th>Country</th>\n",
       "      <th>Year</th>\n",
       "      <th>sex</th>\n",
       "      <th>age</th>\n",
       "      <th>suicides_no</th>\n",
       "      <th>suicide_Rate</th>\n",
       "      <th>country-year</th>\n",
       "    </tr>\n",
       "  </thead>\n",
       "  <tbody>\n",
       "    <tr>\n",
       "      <th>0</th>\n",
       "      <td>Albania</td>\n",
       "      <td>1987</td>\n",
       "      <td>male</td>\n",
       "      <td>15-24 years</td>\n",
       "      <td>21</td>\n",
       "      <td>6.71</td>\n",
       "      <td>Albania1987</td>\n",
       "    </tr>\n",
       "    <tr>\n",
       "      <th>1</th>\n",
       "      <td>Albania</td>\n",
       "      <td>1987</td>\n",
       "      <td>male</td>\n",
       "      <td>35-54 years</td>\n",
       "      <td>16</td>\n",
       "      <td>5.19</td>\n",
       "      <td>Albania1987</td>\n",
       "    </tr>\n",
       "    <tr>\n",
       "      <th>2</th>\n",
       "      <td>Albania</td>\n",
       "      <td>1987</td>\n",
       "      <td>female</td>\n",
       "      <td>15-24 years</td>\n",
       "      <td>14</td>\n",
       "      <td>4.83</td>\n",
       "      <td>Albania1987</td>\n",
       "    </tr>\n",
       "    <tr>\n",
       "      <th>3</th>\n",
       "      <td>Albania</td>\n",
       "      <td>1987</td>\n",
       "      <td>male</td>\n",
       "      <td>75+ years</td>\n",
       "      <td>1</td>\n",
       "      <td>4.59</td>\n",
       "      <td>Albania1987</td>\n",
       "    </tr>\n",
       "    <tr>\n",
       "      <th>4</th>\n",
       "      <td>Albania</td>\n",
       "      <td>1987</td>\n",
       "      <td>male</td>\n",
       "      <td>25-34 years</td>\n",
       "      <td>9</td>\n",
       "      <td>3.28</td>\n",
       "      <td>Albania1987</td>\n",
       "    </tr>\n",
       "  </tbody>\n",
       "</table>\n",
       "</div>"
      ],
      "text/plain": [
       "   Country  Year     sex          age  suicides_no  suicide_Rate country-year\n",
       "0  Albania  1987    male  15-24 years           21          6.71  Albania1987\n",
       "1  Albania  1987    male  35-54 years           16          5.19  Albania1987\n",
       "2  Albania  1987  female  15-24 years           14          4.83  Albania1987\n",
       "3  Albania  1987    male    75+ years            1          4.59  Albania1987\n",
       "4  Albania  1987    male  25-34 years            9          3.28  Albania1987"
      ]
     },
     "execution_count": 6,
     "metadata": {},
     "output_type": "execute_result"
    }
   ],
   "source": [
    "#Dropping missing data columns and unnecessary columns\n",
    "sdata.drop(['HDI for year',' gdp_for_year ($) ','gdp_per_capita ($)', 'generation','population'], axis=1, inplace=True)\n",
    "sdata.rename(columns={ 'country':'Country', 'year':'Year','suicides/100k pop':'suicide_Rate'}, inplace=True)\n",
    "sdata.head()"
   ]
  },
  {
   "cell_type": "code",
   "execution_count": 7,
   "metadata": {},
   "outputs": [],
   "source": [
    "# Getting the column's names where age is 15-24\n",
    "update = sdata[(sdata['age'] != '15-24 years')].index\n",
    "# Delete the other row indexes from dataFrame\n",
    "sdata.drop(update , inplace=True)"
   ]
  },
  {
   "cell_type": "code",
   "execution_count": 8,
   "metadata": {},
   "outputs": [],
   "source": [
    "# Getting the column's names where year is less than 2010\n",
    "update = sdata[(sdata['Year'] < 2010) ].index\n",
    "# Delete these row indexes from dataFrame\n",
    "sdata.drop(update , inplace=True)"
   ]
  },
  {
   "cell_type": "code",
   "execution_count": 9,
   "metadata": {},
   "outputs": [],
   "source": [
    "# Getting the column's names where year is equal to 2015\n",
    "update = sdata[(sdata['Year'] == 2015) ].index\n",
    "# Delete these row indexes from dataFrame\n",
    "sdata.drop(update , inplace=True)"
   ]
  },
  {
   "cell_type": "code",
   "execution_count": 10,
   "metadata": {},
   "outputs": [],
   "source": [
    "# Getting the column's names where year is equal to 2016\n",
    "update = sdata[(sdata['Year'] == 2016) ].index\n",
    "# Delete these row indexes from dataFrame\n",
    "sdata.drop(update , inplace=True)"
   ]
  },
  {
   "cell_type": "code",
   "execution_count": 11,
   "metadata": {},
   "outputs": [
    {
     "data": {
      "text/html": [
       "<div>\n",
       "<style scoped>\n",
       "    .dataframe tbody tr th:only-of-type {\n",
       "        vertical-align: middle;\n",
       "    }\n",
       "\n",
       "    .dataframe tbody tr th {\n",
       "        vertical-align: top;\n",
       "    }\n",
       "\n",
       "    .dataframe thead th {\n",
       "        text-align: right;\n",
       "    }\n",
       "</style>\n",
       "<table border=\"1\" class=\"dataframe\">\n",
       "  <thead>\n",
       "    <tr style=\"text-align: right;\">\n",
       "      <th></th>\n",
       "      <th>Country</th>\n",
       "      <th>Year</th>\n",
       "      <th>sex</th>\n",
       "      <th>age</th>\n",
       "      <th>suicides_no</th>\n",
       "      <th>suicide_Rate</th>\n",
       "      <th>country-year</th>\n",
       "    </tr>\n",
       "  </thead>\n",
       "  <tbody>\n",
       "    <tr>\n",
       "      <th>256</th>\n",
       "      <td>Albania</td>\n",
       "      <td>2010</td>\n",
       "      <td>male</td>\n",
       "      <td>15-24 years</td>\n",
       "      <td>10</td>\n",
       "      <td>3.58</td>\n",
       "      <td>Albania2010</td>\n",
       "    </tr>\n",
       "    <tr>\n",
       "      <th>261</th>\n",
       "      <td>Albania</td>\n",
       "      <td>2010</td>\n",
       "      <td>female</td>\n",
       "      <td>15-24 years</td>\n",
       "      <td>6</td>\n",
       "      <td>2.28</td>\n",
       "      <td>Albania2010</td>\n",
       "    </tr>\n",
       "    <tr>\n",
       "      <th>540</th>\n",
       "      <td>Antigua and Barbuda</td>\n",
       "      <td>2012</td>\n",
       "      <td>female</td>\n",
       "      <td>15-24 years</td>\n",
       "      <td>0</td>\n",
       "      <td>0.00</td>\n",
       "      <td>Antigua and Barbuda2012</td>\n",
       "    </tr>\n",
       "    <tr>\n",
       "      <th>546</th>\n",
       "      <td>Antigua and Barbuda</td>\n",
       "      <td>2012</td>\n",
       "      <td>male</td>\n",
       "      <td>15-24 years</td>\n",
       "      <td>0</td>\n",
       "      <td>0.00</td>\n",
       "      <td>Antigua and Barbuda2012</td>\n",
       "    </tr>\n",
       "    <tr>\n",
       "      <th>552</th>\n",
       "      <td>Antigua and Barbuda</td>\n",
       "      <td>2013</td>\n",
       "      <td>female</td>\n",
       "      <td>15-24 years</td>\n",
       "      <td>0</td>\n",
       "      <td>0.00</td>\n",
       "      <td>Antigua and Barbuda2013</td>\n",
       "    </tr>\n",
       "  </tbody>\n",
       "</table>\n",
       "</div>"
      ],
      "text/plain": [
       "                 Country  Year     sex          age  suicides_no  \\\n",
       "256              Albania  2010    male  15-24 years           10   \n",
       "261              Albania  2010  female  15-24 years            6   \n",
       "540  Antigua and Barbuda  2012  female  15-24 years            0   \n",
       "546  Antigua and Barbuda  2012    male  15-24 years            0   \n",
       "552  Antigua and Barbuda  2013  female  15-24 years            0   \n",
       "\n",
       "     suicide_Rate             country-year  \n",
       "256          3.58              Albania2010  \n",
       "261          2.28              Albania2010  \n",
       "540          0.00  Antigua and Barbuda2012  \n",
       "546          0.00  Antigua and Barbuda2012  \n",
       "552          0.00  Antigua and Barbuda2013  "
      ]
     },
     "execution_count": 11,
     "metadata": {},
     "output_type": "execute_result"
    }
   ],
   "source": [
    "#Final Prepared Suicide dataset\n",
    "sdata.head()"
   ]
  },
  {
   "cell_type": "markdown",
   "metadata": {},
   "source": [
    "---------------------------------------"
   ]
  },
  {
   "cell_type": "markdown",
   "metadata": {},
   "source": [
    "# Suicide Rate by Gender             -------------- OK 👍  --------"
   ]
  },
  {
   "cell_type": "code",
   "execution_count": 12,
   "metadata": {},
   "outputs": [
    {
     "data": {
      "text/html": [
       "<div>\n",
       "<style scoped>\n",
       "    .dataframe tbody tr th:only-of-type {\n",
       "        vertical-align: middle;\n",
       "    }\n",
       "\n",
       "    .dataframe tbody tr th {\n",
       "        vertical-align: top;\n",
       "    }\n",
       "\n",
       "    .dataframe thead th {\n",
       "        text-align: right;\n",
       "    }\n",
       "</style>\n",
       "<table border=\"1\" class=\"dataframe\">\n",
       "  <thead>\n",
       "    <tr style=\"text-align: right;\">\n",
       "      <th></th>\n",
       "      <th>Year</th>\n",
       "      <th>sex</th>\n",
       "      <th>suicide_Rate</th>\n",
       "    </tr>\n",
       "  </thead>\n",
       "  <tbody>\n",
       "    <tr>\n",
       "      <th>0</th>\n",
       "      <td>2010</td>\n",
       "      <td>female</td>\n",
       "      <td>348.25</td>\n",
       "    </tr>\n",
       "    <tr>\n",
       "      <th>1</th>\n",
       "      <td>2010</td>\n",
       "      <td>male</td>\n",
       "      <td>1055.13</td>\n",
       "    </tr>\n",
       "    <tr>\n",
       "      <th>2</th>\n",
       "      <td>2011</td>\n",
       "      <td>female</td>\n",
       "      <td>364.82</td>\n",
       "    </tr>\n",
       "    <tr>\n",
       "      <th>3</th>\n",
       "      <td>2011</td>\n",
       "      <td>male</td>\n",
       "      <td>1082.94</td>\n",
       "    </tr>\n",
       "    <tr>\n",
       "      <th>4</th>\n",
       "      <td>2012</td>\n",
       "      <td>female</td>\n",
       "      <td>341.06</td>\n",
       "    </tr>\n",
       "    <tr>\n",
       "      <th>5</th>\n",
       "      <td>2012</td>\n",
       "      <td>male</td>\n",
       "      <td>1022.54</td>\n",
       "    </tr>\n",
       "    <tr>\n",
       "      <th>6</th>\n",
       "      <td>2013</td>\n",
       "      <td>female</td>\n",
       "      <td>330.61</td>\n",
       "    </tr>\n",
       "    <tr>\n",
       "      <th>7</th>\n",
       "      <td>2013</td>\n",
       "      <td>male</td>\n",
       "      <td>978.84</td>\n",
       "    </tr>\n",
       "    <tr>\n",
       "      <th>8</th>\n",
       "      <td>2014</td>\n",
       "      <td>female</td>\n",
       "      <td>289.54</td>\n",
       "    </tr>\n",
       "    <tr>\n",
       "      <th>9</th>\n",
       "      <td>2014</td>\n",
       "      <td>male</td>\n",
       "      <td>903.21</td>\n",
       "    </tr>\n",
       "  </tbody>\n",
       "</table>\n",
       "</div>"
      ],
      "text/plain": [
       "   Year     sex  suicide_Rate\n",
       "0  2010  female        348.25\n",
       "1  2010    male       1055.13\n",
       "2  2011  female        364.82\n",
       "3  2011    male       1082.94\n",
       "4  2012  female        341.06\n",
       "5  2012    male       1022.54\n",
       "6  2013  female        330.61\n",
       "7  2013    male        978.84\n",
       "8  2014  female        289.54\n",
       "9  2014    male        903.21"
      ]
     },
     "execution_count": 12,
     "metadata": {},
     "output_type": "execute_result"
    }
   ],
   "source": [
    "gender = sdata.groupby(['Year','sex'], as_index=False).agg({\"suicide_Rate\": \"sum\"}, inplace=True)\n",
    "gender"
   ]
  },
  {
   "cell_type": "code",
   "execution_count": 13,
   "metadata": {},
   "outputs": [],
   "source": [
    "suigendata = gender.pivot(index='Year',columns='sex', values='suicide_Rate')"
   ]
  },
  {
   "cell_type": "code",
   "execution_count": 14,
   "metadata": {},
   "outputs": [
    {
     "data": {
      "text/html": [
       "<div>\n",
       "<style scoped>\n",
       "    .dataframe tbody tr th:only-of-type {\n",
       "        vertical-align: middle;\n",
       "    }\n",
       "\n",
       "    .dataframe tbody tr th {\n",
       "        vertical-align: top;\n",
       "    }\n",
       "\n",
       "    .dataframe thead th {\n",
       "        text-align: right;\n",
       "    }\n",
       "</style>\n",
       "<table border=\"1\" class=\"dataframe\">\n",
       "  <thead>\n",
       "    <tr style=\"text-align: right;\">\n",
       "      <th>sex</th>\n",
       "      <th>female</th>\n",
       "      <th>male</th>\n",
       "    </tr>\n",
       "    <tr>\n",
       "      <th>Year</th>\n",
       "      <th></th>\n",
       "      <th></th>\n",
       "    </tr>\n",
       "  </thead>\n",
       "  <tbody>\n",
       "    <tr>\n",
       "      <th>2010</th>\n",
       "      <td>348.25</td>\n",
       "      <td>1055.13</td>\n",
       "    </tr>\n",
       "    <tr>\n",
       "      <th>2011</th>\n",
       "      <td>364.82</td>\n",
       "      <td>1082.94</td>\n",
       "    </tr>\n",
       "    <tr>\n",
       "      <th>2012</th>\n",
       "      <td>341.06</td>\n",
       "      <td>1022.54</td>\n",
       "    </tr>\n",
       "    <tr>\n",
       "      <th>2013</th>\n",
       "      <td>330.61</td>\n",
       "      <td>978.84</td>\n",
       "    </tr>\n",
       "    <tr>\n",
       "      <th>2014</th>\n",
       "      <td>289.54</td>\n",
       "      <td>903.21</td>\n",
       "    </tr>\n",
       "  </tbody>\n",
       "</table>\n",
       "</div>"
      ],
      "text/plain": [
       "sex   female     male\n",
       "Year                 \n",
       "2010  348.25  1055.13\n",
       "2011  364.82  1082.94\n",
       "2012  341.06  1022.54\n",
       "2013  330.61   978.84\n",
       "2014  289.54   903.21"
      ]
     },
     "execution_count": 14,
     "metadata": {},
     "output_type": "execute_result"
    }
   ],
   "source": [
    "suigendata"
   ]
  },
  {
   "cell_type": "code",
   "execution_count": 52,
   "metadata": {},
   "outputs": [
    {
     "data": {
      "text/html": [
       "<script type=\"text/javascript\">window.PlotlyConfig = {MathJaxConfig: 'local'};</script><script type=\"text/javascript\">if (window.MathJax) {MathJax.Hub.Config({SVG: {font: \"STIX-Web\"}});}</script><script>requirejs.config({paths: { 'plotly': ['https://cdn.plot.ly/plotly-latest.min']},});if(!window._Plotly) {require(['plotly'],function(plotly) {window._Plotly=plotly;});}</script>"
      ],
      "text/vnd.plotly.v1+html": [
       "<script type=\"text/javascript\">window.PlotlyConfig = {MathJaxConfig: 'local'};</script><script type=\"text/javascript\">if (window.MathJax) {MathJax.Hub.Config({SVG: {font: \"STIX-Web\"}});}</script><script>requirejs.config({paths: { 'plotly': ['https://cdn.plot.ly/plotly-latest.min']},});if(!window._Plotly) {require(['plotly'],function(plotly) {window._Plotly=plotly;});}</script>"
      ]
     },
     "metadata": {},
     "output_type": "display_data"
    },
    {
     "data": {
      "text/plain": [
       "'file:///Users/rzanabdullah/temp-plot.html'"
      ]
     },
     "execution_count": 52,
     "metadata": {},
     "output_type": "execute_result"
    }
   ],
   "source": [
    "# Plot Suicide rate by gender over the years with Pandas\n",
    "\n",
    "import plotly.offline as pyo\n",
    "\n",
    "import plotly\n",
    "import plotly.graph_objs as go\n",
    "plotly.offline.init_notebook_mode(connected=True)\n",
    "\n",
    "\n",
    "\n",
    "trace0 = go.Bar(\n",
    "        x= suigendata.index,\n",
    "        y= suigendata.male,\n",
    "        name= \"Male\",\n",
    "        marker = dict(color = 'royalblue')\n",
    ")\n",
    "\n",
    "trace1 = go.Bar(\n",
    "        x= suigendata.index,\n",
    "        y= suigendata.female,\n",
    "        name = 'Female',\n",
    "        marker = dict(color = 'lightpink')\n",
    ")\n",
    "\n",
    "data = [trace0, trace1]\n",
    "\n",
    "layout = {\"title\":\"Suicide Rate by Gender\",\n",
    "         \"xaxis\":{\"title\":\"Years\"},\n",
    "         \"yaxis\":{\"title\":\"Suicide Rate\"},\n",
    "         \"barmode\":\"group\"}\n",
    "\n",
    "pyo.plot({\"data\":data, \"layout\":layout})"
   ]
  },
  {
   "cell_type": "markdown",
   "metadata": {},
   "source": [
    "With Pandas bar chart we can present that majority of suicides which were males during all five years from 2010 to 2014. Moreover, we can see that the suicide rate is decreasing gradually."
   ]
  },
  {
   "cell_type": "markdown",
   "metadata": {},
   "source": [
    "-----------------------------------------------------------------------------------------------------------------"
   ]
  },
  {
   "cell_type": "markdown",
   "metadata": {},
   "source": [
    "# Exploring Unemployment.csv dataset"
   ]
  },
  {
   "cell_type": "code",
   "execution_count": 16,
   "metadata": {},
   "outputs": [
    {
     "data": {
      "text/html": [
       "<div>\n",
       "<style scoped>\n",
       "    .dataframe tbody tr th:only-of-type {\n",
       "        vertical-align: middle;\n",
       "    }\n",
       "\n",
       "    .dataframe tbody tr th {\n",
       "        vertical-align: top;\n",
       "    }\n",
       "\n",
       "    .dataframe thead th {\n",
       "        text-align: right;\n",
       "    }\n",
       "</style>\n",
       "<table border=\"1\" class=\"dataframe\">\n",
       "  <thead>\n",
       "    <tr style=\"text-align: right;\">\n",
       "      <th></th>\n",
       "      <th>Country Name</th>\n",
       "      <th>Country Code</th>\n",
       "      <th>2010</th>\n",
       "      <th>2011</th>\n",
       "      <th>2012</th>\n",
       "      <th>2013</th>\n",
       "      <th>2014</th>\n",
       "    </tr>\n",
       "  </thead>\n",
       "  <tbody>\n",
       "    <tr>\n",
       "      <th>0</th>\n",
       "      <td>Afghanistan</td>\n",
       "      <td>AFG</td>\n",
       "      <td>20.600000</td>\n",
       "      <td>20.900000</td>\n",
       "      <td>19.700001</td>\n",
       "      <td>21.100000</td>\n",
       "      <td>20.799999</td>\n",
       "    </tr>\n",
       "    <tr>\n",
       "      <th>1</th>\n",
       "      <td>Angola</td>\n",
       "      <td>AGO</td>\n",
       "      <td>10.800000</td>\n",
       "      <td>10.700000</td>\n",
       "      <td>10.700000</td>\n",
       "      <td>10.600000</td>\n",
       "      <td>10.500000</td>\n",
       "    </tr>\n",
       "    <tr>\n",
       "      <th>2</th>\n",
       "      <td>Albania</td>\n",
       "      <td>ALB</td>\n",
       "      <td>25.799999</td>\n",
       "      <td>27.000000</td>\n",
       "      <td>28.299999</td>\n",
       "      <td>28.700001</td>\n",
       "      <td>29.200001</td>\n",
       "    </tr>\n",
       "    <tr>\n",
       "      <th>3</th>\n",
       "      <td>Arab World</td>\n",
       "      <td>ARB</td>\n",
       "      <td>25.022214</td>\n",
       "      <td>28.117516</td>\n",
       "      <td>29.113212</td>\n",
       "      <td>29.335306</td>\n",
       "      <td>29.704569</td>\n",
       "    </tr>\n",
       "    <tr>\n",
       "      <th>4</th>\n",
       "      <td>United Arab Emirates</td>\n",
       "      <td>ARE</td>\n",
       "      <td>9.800000</td>\n",
       "      <td>9.800000</td>\n",
       "      <td>9.800000</td>\n",
       "      <td>9.900000</td>\n",
       "      <td>10.000000</td>\n",
       "    </tr>\n",
       "  </tbody>\n",
       "</table>\n",
       "</div>"
      ],
      "text/plain": [
       "           Country Name Country Code       2010       2011       2012  \\\n",
       "0           Afghanistan          AFG  20.600000  20.900000  19.700001   \n",
       "1                Angola          AGO  10.800000  10.700000  10.700000   \n",
       "2               Albania          ALB  25.799999  27.000000  28.299999   \n",
       "3            Arab World          ARB  25.022214  28.117516  29.113212   \n",
       "4  United Arab Emirates          ARE   9.800000   9.800000   9.800000   \n",
       "\n",
       "        2013       2014  \n",
       "0  21.100000  20.799999  \n",
       "1  10.600000  10.500000  \n",
       "2  28.700001  29.200001  \n",
       "3  29.335306  29.704569  \n",
       "4   9.900000  10.000000  "
      ]
     },
     "execution_count": 16,
     "metadata": {},
     "output_type": "execute_result"
    }
   ],
   "source": [
    "udata.head()"
   ]
  },
  {
   "cell_type": "code",
   "execution_count": 17,
   "metadata": {},
   "outputs": [
    {
     "name": "stdout",
     "output_type": "stream",
     "text": [
      "<class 'pandas.core.frame.DataFrame'>\n",
      "RangeIndex: 219 entries, 0 to 218\n",
      "Data columns (total 7 columns):\n",
      "Country Name    219 non-null object\n",
      "Country Code    219 non-null object\n",
      "2010            219 non-null float64\n",
      "2011            219 non-null float64\n",
      "2012            219 non-null float64\n",
      "2013            219 non-null float64\n",
      "2014            219 non-null float64\n",
      "dtypes: float64(5), object(2)\n",
      "memory usage: 12.1+ KB\n"
     ]
    }
   ],
   "source": [
    "udata.info()"
   ]
  },
  {
   "cell_type": "code",
   "execution_count": 18,
   "metadata": {},
   "outputs": [
    {
     "data": {
      "text/plain": [
       "Country Name    0\n",
       "Country Code    0\n",
       "2010            0\n",
       "2011            0\n",
       "2012            0\n",
       "2013            0\n",
       "2014            0\n",
       "dtype: int64"
      ]
     },
     "execution_count": 18,
     "metadata": {},
     "output_type": "execute_result"
    }
   ],
   "source": [
    "#Explore missing data\n",
    "udata.isnull().sum()"
   ]
  },
  {
   "cell_type": "code",
   "execution_count": 19,
   "metadata": {},
   "outputs": [],
   "source": [
    "#Dropping unnecessary columns\n",
    "to_drop = ['Country Code']\n",
    "udata.rename(columns={ 'Country Name':'Country_year'}, inplace=True)\n",
    "udata.drop(to_drop, inplace=True, axis=1)"
   ]
  },
  {
   "cell_type": "code",
   "execution_count": 20,
   "metadata": {},
   "outputs": [],
   "source": [
    "# Reshapping the dataset\n",
    "undata = pd.melt(udata, id_vars=[\"Country_year\"], value_vars=['2010', '2011', '2012', '2013', '2014'],\n",
    "                 var_name= 'Year', value_name=\"Unemployment_Rate\")"
   ]
  },
  {
   "cell_type": "code",
   "execution_count": 21,
   "metadata": {},
   "outputs": [
    {
     "data": {
      "text/html": [
       "<div>\n",
       "<style scoped>\n",
       "    .dataframe tbody tr th:only-of-type {\n",
       "        vertical-align: middle;\n",
       "    }\n",
       "\n",
       "    .dataframe tbody tr th {\n",
       "        vertical-align: top;\n",
       "    }\n",
       "\n",
       "    .dataframe thead th {\n",
       "        text-align: right;\n",
       "    }\n",
       "</style>\n",
       "<table border=\"1\" class=\"dataframe\">\n",
       "  <thead>\n",
       "    <tr style=\"text-align: right;\">\n",
       "      <th></th>\n",
       "      <th>Country_year</th>\n",
       "      <th>Year</th>\n",
       "      <th>Unemployment_Rate</th>\n",
       "    </tr>\n",
       "  </thead>\n",
       "  <tbody>\n",
       "    <tr>\n",
       "      <th>0</th>\n",
       "      <td>Afghanistan</td>\n",
       "      <td>2010</td>\n",
       "      <td>20.600000</td>\n",
       "    </tr>\n",
       "    <tr>\n",
       "      <th>1</th>\n",
       "      <td>Angola</td>\n",
       "      <td>2010</td>\n",
       "      <td>10.800000</td>\n",
       "    </tr>\n",
       "    <tr>\n",
       "      <th>2</th>\n",
       "      <td>Albania</td>\n",
       "      <td>2010</td>\n",
       "      <td>25.799999</td>\n",
       "    </tr>\n",
       "    <tr>\n",
       "      <th>3</th>\n",
       "      <td>Arab World</td>\n",
       "      <td>2010</td>\n",
       "      <td>25.022214</td>\n",
       "    </tr>\n",
       "    <tr>\n",
       "      <th>4</th>\n",
       "      <td>United Arab Emirates</td>\n",
       "      <td>2010</td>\n",
       "      <td>9.800000</td>\n",
       "    </tr>\n",
       "  </tbody>\n",
       "</table>\n",
       "</div>"
      ],
      "text/plain": [
       "           Country_year  Year  Unemployment_Rate\n",
       "0           Afghanistan  2010          20.600000\n",
       "1                Angola  2010          10.800000\n",
       "2               Albania  2010          25.799999\n",
       "3            Arab World  2010          25.022214\n",
       "4  United Arab Emirates  2010           9.800000"
      ]
     },
     "execution_count": 21,
     "metadata": {},
     "output_type": "execute_result"
    }
   ],
   "source": [
    "undata.head()"
   ]
  },
  {
   "cell_type": "code",
   "execution_count": 22,
   "metadata": {},
   "outputs": [
    {
     "data": {
      "text/html": [
       "<div>\n",
       "<style scoped>\n",
       "    .dataframe tbody tr th:only-of-type {\n",
       "        vertical-align: middle;\n",
       "    }\n",
       "\n",
       "    .dataframe tbody tr th {\n",
       "        vertical-align: top;\n",
       "    }\n",
       "\n",
       "    .dataframe thead th {\n",
       "        text-align: right;\n",
       "    }\n",
       "</style>\n",
       "<table border=\"1\" class=\"dataframe\">\n",
       "  <thead>\n",
       "    <tr style=\"text-align: right;\">\n",
       "      <th></th>\n",
       "      <th>Country_year</th>\n",
       "      <th>Year</th>\n",
       "      <th>Unemployment_Rate</th>\n",
       "    </tr>\n",
       "  </thead>\n",
       "  <tbody>\n",
       "    <tr>\n",
       "      <th>0</th>\n",
       "      <td>Afghanistan</td>\n",
       "      <td>2010</td>\n",
       "      <td>20.600000</td>\n",
       "    </tr>\n",
       "    <tr>\n",
       "      <th>219</th>\n",
       "      <td>Afghanistan</td>\n",
       "      <td>2011</td>\n",
       "      <td>20.900000</td>\n",
       "    </tr>\n",
       "    <tr>\n",
       "      <th>438</th>\n",
       "      <td>Afghanistan</td>\n",
       "      <td>2012</td>\n",
       "      <td>19.700001</td>\n",
       "    </tr>\n",
       "    <tr>\n",
       "      <th>657</th>\n",
       "      <td>Afghanistan</td>\n",
       "      <td>2013</td>\n",
       "      <td>21.100000</td>\n",
       "    </tr>\n",
       "    <tr>\n",
       "      <th>876</th>\n",
       "      <td>Afghanistan</td>\n",
       "      <td>2014</td>\n",
       "      <td>20.799999</td>\n",
       "    </tr>\n",
       "  </tbody>\n",
       "</table>\n",
       "</div>"
      ],
      "text/plain": [
       "    Country_year  Year  Unemployment_Rate\n",
       "0    Afghanistan  2010          20.600000\n",
       "219  Afghanistan  2011          20.900000\n",
       "438  Afghanistan  2012          19.700001\n",
       "657  Afghanistan  2013          21.100000\n",
       "876  Afghanistan  2014          20.799999"
      ]
     },
     "execution_count": 22,
     "metadata": {},
     "output_type": "execute_result"
    }
   ],
   "source": [
    "#sorting the data by country and year\n",
    "data_sorted = undata.sort_values([\"Country_year\", \"Year\"])\n",
    "data_sorted.head()"
   ]
  },
  {
   "cell_type": "code",
   "execution_count": 23,
   "metadata": {},
   "outputs": [],
   "source": [
    "#Copping country column for forther needs\n",
    "data_sorted['Country'] = data_sorted['Country_year']"
   ]
  },
  {
   "cell_type": "code",
   "execution_count": 24,
   "metadata": {},
   "outputs": [],
   "source": [
    "data_sorted['Country_year'] = data_sorted['Country_year'].str.cat(data_sorted['Year'],sep=\"\")"
   ]
  },
  {
   "cell_type": "code",
   "execution_count": 25,
   "metadata": {},
   "outputs": [
    {
     "data": {
      "text/html": [
       "<div>\n",
       "<style scoped>\n",
       "    .dataframe tbody tr th:only-of-type {\n",
       "        vertical-align: middle;\n",
       "    }\n",
       "\n",
       "    .dataframe tbody tr th {\n",
       "        vertical-align: top;\n",
       "    }\n",
       "\n",
       "    .dataframe thead th {\n",
       "        text-align: right;\n",
       "    }\n",
       "</style>\n",
       "<table border=\"1\" class=\"dataframe\">\n",
       "  <thead>\n",
       "    <tr style=\"text-align: right;\">\n",
       "      <th></th>\n",
       "      <th>Country_year</th>\n",
       "      <th>Year</th>\n",
       "      <th>Unemployment_Rate</th>\n",
       "      <th>Country</th>\n",
       "    </tr>\n",
       "  </thead>\n",
       "  <tbody>\n",
       "    <tr>\n",
       "      <th>0</th>\n",
       "      <td>Afghanistan2010</td>\n",
       "      <td>2010</td>\n",
       "      <td>20.600000</td>\n",
       "      <td>Afghanistan</td>\n",
       "    </tr>\n",
       "    <tr>\n",
       "      <th>219</th>\n",
       "      <td>Afghanistan2011</td>\n",
       "      <td>2011</td>\n",
       "      <td>20.900000</td>\n",
       "      <td>Afghanistan</td>\n",
       "    </tr>\n",
       "    <tr>\n",
       "      <th>438</th>\n",
       "      <td>Afghanistan2012</td>\n",
       "      <td>2012</td>\n",
       "      <td>19.700001</td>\n",
       "      <td>Afghanistan</td>\n",
       "    </tr>\n",
       "    <tr>\n",
       "      <th>657</th>\n",
       "      <td>Afghanistan2013</td>\n",
       "      <td>2013</td>\n",
       "      <td>21.100000</td>\n",
       "      <td>Afghanistan</td>\n",
       "    </tr>\n",
       "    <tr>\n",
       "      <th>876</th>\n",
       "      <td>Afghanistan2014</td>\n",
       "      <td>2014</td>\n",
       "      <td>20.799999</td>\n",
       "      <td>Afghanistan</td>\n",
       "    </tr>\n",
       "  </tbody>\n",
       "</table>\n",
       "</div>"
      ],
      "text/plain": [
       "        Country_year  Year  Unemployment_Rate      Country\n",
       "0    Afghanistan2010  2010          20.600000  Afghanistan\n",
       "219  Afghanistan2011  2011          20.900000  Afghanistan\n",
       "438  Afghanistan2012  2012          19.700001  Afghanistan\n",
       "657  Afghanistan2013  2013          21.100000  Afghanistan\n",
       "876  Afghanistan2014  2014          20.799999  Afghanistan"
      ]
     },
     "execution_count": 25,
     "metadata": {},
     "output_type": "execute_result"
    }
   ],
   "source": [
    "data_sorted.head()"
   ]
  },
  {
   "cell_type": "markdown",
   "metadata": {},
   "source": [
    "--------------"
   ]
  },
  {
   "cell_type": "markdown",
   "metadata": {},
   "source": [
    "# Prepare Suicide.csv dataset to merge with Unemployment.csv dataset"
   ]
  },
  {
   "cell_type": "code",
   "execution_count": 26,
   "metadata": {},
   "outputs": [],
   "source": [
    "#group the data by country and year to sum the suicide rate\n",
    "suigroup = sdata.groupby(['country-year','Country'], as_index=False).agg({\"suicides_no\": \"sum\",\"suicide_Rate\": \"sum\"}, \n",
    "                                                             inplace=True)"
   ]
  },
  {
   "cell_type": "code",
   "execution_count": 27,
   "metadata": {},
   "outputs": [],
   "source": [
    "#renaming the dataframes names to match the other csv file to merge\n",
    "suigroup.rename(columns={\"country-year\":\"Country_year\",\"country\": \"Country\"}, inplace=True)"
   ]
  },
  {
   "cell_type": "code",
   "execution_count": 28,
   "metadata": {},
   "outputs": [
    {
     "data": {
      "text/html": [
       "<div>\n",
       "<style scoped>\n",
       "    .dataframe tbody tr th:only-of-type {\n",
       "        vertical-align: middle;\n",
       "    }\n",
       "\n",
       "    .dataframe tbody tr th {\n",
       "        vertical-align: top;\n",
       "    }\n",
       "\n",
       "    .dataframe thead th {\n",
       "        text-align: right;\n",
       "    }\n",
       "</style>\n",
       "<table border=\"1\" class=\"dataframe\">\n",
       "  <thead>\n",
       "    <tr style=\"text-align: right;\">\n",
       "      <th></th>\n",
       "      <th>Country_year</th>\n",
       "      <th>Country</th>\n",
       "      <th>suicides_no</th>\n",
       "      <th>suicide_Rate</th>\n",
       "    </tr>\n",
       "  </thead>\n",
       "  <tbody>\n",
       "    <tr>\n",
       "      <th>0</th>\n",
       "      <td>Albania2010</td>\n",
       "      <td>Albania</td>\n",
       "      <td>16</td>\n",
       "      <td>5.86</td>\n",
       "    </tr>\n",
       "    <tr>\n",
       "      <th>1</th>\n",
       "      <td>Antigua and Barbuda2012</td>\n",
       "      <td>Antigua and Barbuda</td>\n",
       "      <td>0</td>\n",
       "      <td>0.00</td>\n",
       "    </tr>\n",
       "    <tr>\n",
       "      <th>2</th>\n",
       "      <td>Antigua and Barbuda2013</td>\n",
       "      <td>Antigua and Barbuda</td>\n",
       "      <td>0</td>\n",
       "      <td>0.00</td>\n",
       "    </tr>\n",
       "    <tr>\n",
       "      <th>3</th>\n",
       "      <td>Antigua and Barbuda2014</td>\n",
       "      <td>Antigua and Barbuda</td>\n",
       "      <td>0</td>\n",
       "      <td>0.00</td>\n",
       "    </tr>\n",
       "    <tr>\n",
       "      <th>4</th>\n",
       "      <td>Argentina2010</td>\n",
       "      <td>Argentina</td>\n",
       "      <td>833</td>\n",
       "      <td>24.24</td>\n",
       "    </tr>\n",
       "  </tbody>\n",
       "</table>\n",
       "</div>"
      ],
      "text/plain": [
       "              Country_year              Country  suicides_no  suicide_Rate\n",
       "0              Albania2010              Albania           16          5.86\n",
       "1  Antigua and Barbuda2012  Antigua and Barbuda            0          0.00\n",
       "2  Antigua and Barbuda2013  Antigua and Barbuda            0          0.00\n",
       "3  Antigua and Barbuda2014  Antigua and Barbuda            0          0.00\n",
       "4            Argentina2010            Argentina          833         24.24"
      ]
     },
     "execution_count": 28,
     "metadata": {},
     "output_type": "execute_result"
    }
   ],
   "source": [
    "suigroup.head()"
   ]
  },
  {
   "cell_type": "markdown",
   "metadata": {},
   "source": [
    "----------"
   ]
  },
  {
   "cell_type": "markdown",
   "metadata": {},
   "source": [
    "# Merging Suicide.csv dataset and Unemployment.csv dataset"
   ]
  },
  {
   "cell_type": "code",
   "execution_count": 29,
   "metadata": {},
   "outputs": [],
   "source": [
    "# After cleaning the data we merge the two datasets to find the relationship of features using pandas merge library\n",
    "mergedata = pd.merge(suigroup, data_sorted, on=['Country_year','Country'], how='outer' )"
   ]
  },
  {
   "cell_type": "code",
   "execution_count": 30,
   "metadata": {},
   "outputs": [
    {
     "data": {
      "text/html": [
       "<div>\n",
       "<style scoped>\n",
       "    .dataframe tbody tr th:only-of-type {\n",
       "        vertical-align: middle;\n",
       "    }\n",
       "\n",
       "    .dataframe tbody tr th {\n",
       "        vertical-align: top;\n",
       "    }\n",
       "\n",
       "    .dataframe thead th {\n",
       "        text-align: right;\n",
       "    }\n",
       "</style>\n",
       "<table border=\"1\" class=\"dataframe\">\n",
       "  <thead>\n",
       "    <tr style=\"text-align: right;\">\n",
       "      <th></th>\n",
       "      <th>Country_year</th>\n",
       "      <th>Country</th>\n",
       "      <th>suicides_no</th>\n",
       "      <th>suicide_Rate</th>\n",
       "      <th>Year</th>\n",
       "      <th>Unemployment_Rate</th>\n",
       "    </tr>\n",
       "  </thead>\n",
       "  <tbody>\n",
       "    <tr>\n",
       "      <th>0</th>\n",
       "      <td>Albania2010</td>\n",
       "      <td>Albania</td>\n",
       "      <td>16.0</td>\n",
       "      <td>5.86</td>\n",
       "      <td>2010</td>\n",
       "      <td>25.799999</td>\n",
       "    </tr>\n",
       "    <tr>\n",
       "      <th>1</th>\n",
       "      <td>Antigua and Barbuda2012</td>\n",
       "      <td>Antigua and Barbuda</td>\n",
       "      <td>0.0</td>\n",
       "      <td>0.00</td>\n",
       "      <td>NaN</td>\n",
       "      <td>NaN</td>\n",
       "    </tr>\n",
       "    <tr>\n",
       "      <th>2</th>\n",
       "      <td>Antigua and Barbuda2013</td>\n",
       "      <td>Antigua and Barbuda</td>\n",
       "      <td>0.0</td>\n",
       "      <td>0.00</td>\n",
       "      <td>NaN</td>\n",
       "      <td>NaN</td>\n",
       "    </tr>\n",
       "    <tr>\n",
       "      <th>3</th>\n",
       "      <td>Antigua and Barbuda2014</td>\n",
       "      <td>Antigua and Barbuda</td>\n",
       "      <td>0.0</td>\n",
       "      <td>0.00</td>\n",
       "      <td>NaN</td>\n",
       "      <td>NaN</td>\n",
       "    </tr>\n",
       "    <tr>\n",
       "      <th>4</th>\n",
       "      <td>Argentina2010</td>\n",
       "      <td>Argentina</td>\n",
       "      <td>833.0</td>\n",
       "      <td>24.24</td>\n",
       "      <td>2010</td>\n",
       "      <td>19.500000</td>\n",
       "    </tr>\n",
       "  </tbody>\n",
       "</table>\n",
       "</div>"
      ],
      "text/plain": [
       "              Country_year              Country  suicides_no  suicide_Rate  \\\n",
       "0              Albania2010              Albania         16.0          5.86   \n",
       "1  Antigua and Barbuda2012  Antigua and Barbuda          0.0          0.00   \n",
       "2  Antigua and Barbuda2013  Antigua and Barbuda          0.0          0.00   \n",
       "3  Antigua and Barbuda2014  Antigua and Barbuda          0.0          0.00   \n",
       "4            Argentina2010            Argentina        833.0         24.24   \n",
       "\n",
       "   Year  Unemployment_Rate  \n",
       "0  2010          25.799999  \n",
       "1   NaN                NaN  \n",
       "2   NaN                NaN  \n",
       "3   NaN                NaN  \n",
       "4  2010          19.500000  "
      ]
     },
     "execution_count": 30,
     "metadata": {},
     "output_type": "execute_result"
    }
   ],
   "source": [
    "#View the merged data\n",
    "mergedata.head()"
   ]
  },
  {
   "cell_type": "code",
   "execution_count": 31,
   "metadata": {},
   "outputs": [
    {
     "data": {
      "text/plain": [
       "Country_year           0\n",
       "Country                0\n",
       "suicides_no          725\n",
       "suicide_Rate         725\n",
       "Year                  43\n",
       "Unemployment_Rate     43\n",
       "dtype: int64"
      ]
     },
     "execution_count": 31,
     "metadata": {},
     "output_type": "execute_result"
    }
   ],
   "source": [
    "#Checking on null valuse\n",
    "mergedata.isnull().sum()"
   ]
  },
  {
   "cell_type": "markdown",
   "metadata": {},
   "source": [
    "---------"
   ]
  },
  {
   "cell_type": "markdown",
   "metadata": {},
   "source": [
    "# Cleaning merged datasets null values"
   ]
  },
  {
   "cell_type": "code",
   "execution_count": 32,
   "metadata": {},
   "outputs": [],
   "source": [
    "# Cleaning the data from null valuse\n",
    "cleandata = mergedata.dropna()"
   ]
  },
  {
   "cell_type": "code",
   "execution_count": 33,
   "metadata": {},
   "outputs": [
    {
     "name": "stdout",
     "output_type": "stream",
     "text": [
      "<class 'pandas.core.frame.DataFrame'>\n",
      "Int64Index: 370 entries, 0 to 412\n",
      "Data columns (total 6 columns):\n",
      "Country_year         370 non-null object\n",
      "Country              370 non-null object\n",
      "suicides_no          370 non-null float64\n",
      "suicide_Rate         370 non-null float64\n",
      "Year                 370 non-null object\n",
      "Unemployment_Rate    370 non-null float64\n",
      "dtypes: float64(3), object(3)\n",
      "memory usage: 20.2+ KB\n"
     ]
    }
   ],
   "source": [
    "cleandata.info()"
   ]
  },
  {
   "cell_type": "code",
   "execution_count": 34,
   "metadata": {},
   "outputs": [
    {
     "data": {
      "text/plain": [
       "Country_year         0\n",
       "Country              0\n",
       "suicides_no          0\n",
       "suicide_Rate         0\n",
       "Year                 0\n",
       "Unemployment_Rate    0\n",
       "dtype: int64"
      ]
     },
     "execution_count": 34,
     "metadata": {},
     "output_type": "execute_result"
    }
   ],
   "source": [
    "#Check if there is any null values\n",
    "cleandata.isnull().sum()"
   ]
  },
  {
   "cell_type": "code",
   "execution_count": 35,
   "metadata": {},
   "outputs": [
    {
     "data": {
      "text/html": [
       "<div>\n",
       "<style scoped>\n",
       "    .dataframe tbody tr th:only-of-type {\n",
       "        vertical-align: middle;\n",
       "    }\n",
       "\n",
       "    .dataframe tbody tr th {\n",
       "        vertical-align: top;\n",
       "    }\n",
       "\n",
       "    .dataframe thead th {\n",
       "        text-align: right;\n",
       "    }\n",
       "</style>\n",
       "<table border=\"1\" class=\"dataframe\">\n",
       "  <thead>\n",
       "    <tr style=\"text-align: right;\">\n",
       "      <th></th>\n",
       "      <th>Country_year</th>\n",
       "      <th>Country</th>\n",
       "      <th>suicides_no</th>\n",
       "      <th>suicide_Rate</th>\n",
       "      <th>Year</th>\n",
       "      <th>Unemployment_Rate</th>\n",
       "    </tr>\n",
       "  </thead>\n",
       "  <tbody>\n",
       "    <tr>\n",
       "      <th>0</th>\n",
       "      <td>Albania2010</td>\n",
       "      <td>Albania</td>\n",
       "      <td>16.0</td>\n",
       "      <td>5.86</td>\n",
       "      <td>2010</td>\n",
       "      <td>25.799999</td>\n",
       "    </tr>\n",
       "    <tr>\n",
       "      <th>4</th>\n",
       "      <td>Argentina2010</td>\n",
       "      <td>Argentina</td>\n",
       "      <td>833.0</td>\n",
       "      <td>24.24</td>\n",
       "      <td>2010</td>\n",
       "      <td>19.500000</td>\n",
       "    </tr>\n",
       "    <tr>\n",
       "      <th>5</th>\n",
       "      <td>Argentina2011</td>\n",
       "      <td>Argentina</td>\n",
       "      <td>865.0</td>\n",
       "      <td>25.06</td>\n",
       "      <td>2011</td>\n",
       "      <td>18.799999</td>\n",
       "    </tr>\n",
       "    <tr>\n",
       "      <th>6</th>\n",
       "      <td>Argentina2012</td>\n",
       "      <td>Argentina</td>\n",
       "      <td>949.0</td>\n",
       "      <td>27.43</td>\n",
       "      <td>2012</td>\n",
       "      <td>18.400000</td>\n",
       "    </tr>\n",
       "    <tr>\n",
       "      <th>7</th>\n",
       "      <td>Argentina2013</td>\n",
       "      <td>Argentina</td>\n",
       "      <td>863.0</td>\n",
       "      <td>24.89</td>\n",
       "      <td>2013</td>\n",
       "      <td>19.700001</td>\n",
       "    </tr>\n",
       "  </tbody>\n",
       "</table>\n",
       "</div>"
      ],
      "text/plain": [
       "    Country_year    Country  suicides_no  suicide_Rate  Year  \\\n",
       "0    Albania2010    Albania         16.0          5.86  2010   \n",
       "4  Argentina2010  Argentina        833.0         24.24  2010   \n",
       "5  Argentina2011  Argentina        865.0         25.06  2011   \n",
       "6  Argentina2012  Argentina        949.0         27.43  2012   \n",
       "7  Argentina2013  Argentina        863.0         24.89  2013   \n",
       "\n",
       "   Unemployment_Rate  \n",
       "0          25.799999  \n",
       "4          19.500000  \n",
       "5          18.799999  \n",
       "6          18.400000  \n",
       "7          19.700001  "
      ]
     },
     "execution_count": 35,
     "metadata": {},
     "output_type": "execute_result"
    }
   ],
   "source": [
    "#Final merged dataset values\n",
    "cleandata.head()"
   ]
  },
  {
   "cell_type": "markdown",
   "metadata": {},
   "source": [
    "-------"
   ]
  },
  {
   "cell_type": "markdown",
   "metadata": {},
   "source": [
    "# Unemployment and Suicide Rate from 2010 to 2014 ----------- OK 👍 -----------"
   ]
  },
  {
   "cell_type": "code",
   "execution_count": 36,
   "metadata": {},
   "outputs": [],
   "source": [
    "#Groupping the data by years to visualize the sum of rates by years\n",
    "Rate_year = cleandata.groupby('Year', as_index=False).agg({\"Unemployment_Rate\": \"sum\",\"suicide_Rate\": \"sum\"}, inplace=True)"
   ]
  },
  {
   "cell_type": "code",
   "execution_count": 37,
   "metadata": {},
   "outputs": [
    {
     "data": {
      "text/html": [
       "<div>\n",
       "<style scoped>\n",
       "    .dataframe tbody tr th:only-of-type {\n",
       "        vertical-align: middle;\n",
       "    }\n",
       "\n",
       "    .dataframe tbody tr th {\n",
       "        vertical-align: top;\n",
       "    }\n",
       "\n",
       "    .dataframe thead th {\n",
       "        text-align: right;\n",
       "    }\n",
       "</style>\n",
       "<table border=\"1\" class=\"dataframe\">\n",
       "  <thead>\n",
       "    <tr style=\"text-align: right;\">\n",
       "      <th></th>\n",
       "      <th>Year</th>\n",
       "      <th>Unemployment_Rate</th>\n",
       "      <th>suicide_Rate</th>\n",
       "    </tr>\n",
       "  </thead>\n",
       "  <tbody>\n",
       "    <tr>\n",
       "      <th>0</th>\n",
       "      <td>2010</td>\n",
       "      <td>1541.599997</td>\n",
       "      <td>1327.99</td>\n",
       "    </tr>\n",
       "    <tr>\n",
       "      <th>1</th>\n",
       "      <td>2011</td>\n",
       "      <td>1567.399996</td>\n",
       "      <td>1358.14</td>\n",
       "    </tr>\n",
       "    <tr>\n",
       "      <th>2</th>\n",
       "      <td>2012</td>\n",
       "      <td>1454.099998</td>\n",
       "      <td>1258.05</td>\n",
       "    </tr>\n",
       "    <tr>\n",
       "      <th>3</th>\n",
       "      <td>2013</td>\n",
       "      <td>1424.200008</td>\n",
       "      <td>1226.97</td>\n",
       "    </tr>\n",
       "    <tr>\n",
       "      <th>4</th>\n",
       "      <td>2014</td>\n",
       "      <td>1408.099995</td>\n",
       "      <td>1117.82</td>\n",
       "    </tr>\n",
       "  </tbody>\n",
       "</table>\n",
       "</div>"
      ],
      "text/plain": [
       "   Year  Unemployment_Rate  suicide_Rate\n",
       "0  2010        1541.599997       1327.99\n",
       "1  2011        1567.399996       1358.14\n",
       "2  2012        1454.099998       1258.05\n",
       "3  2013        1424.200008       1226.97\n",
       "4  2014        1408.099995       1117.82"
      ]
     },
     "execution_count": 37,
     "metadata": {},
     "output_type": "execute_result"
    }
   ],
   "source": [
    "Rate_year.head()"
   ]
  },
  {
   "cell_type": "code",
   "execution_count": 53,
   "metadata": {},
   "outputs": [
    {
     "data": {
      "text/plain": [
       "'file:///Users/rzanabdullah/line-mode.html'"
      ]
     },
     "execution_count": 53,
     "metadata": {},
     "output_type": "execute_result"
    }
   ],
   "source": [
    "# Plot rates by years with Scatter\n",
    "\n",
    "trace0 = go.Scatter(\n",
    "    x = Rate_year.Year,\n",
    "    y = Rate_year.Unemployment_Rate,\n",
    "    mode = 'markers+lines',\n",
    "    name = 'Unemployment Rate'\n",
    ")\n",
    "trace1 = go.Scatter(\n",
    "    x = Rate_year.Year,\n",
    "    y = Rate_year.suicide_Rate,\n",
    "    mode = 'markers+lines',\n",
    "    name = 'Suicide Rate',\n",
    "    \n",
    ")\n",
    "\n",
    "\n",
    "data = [trace0, trace1]\n",
    "\n",
    "layout = go.Layout(\n",
    "    xaxis=dict(\n",
    "        title='Year',\n",
    "        titlefont=dict(\n",
    "            family='Old Standard TT, serif',\n",
    "            size=18,\n",
    "            color='black'\n",
    "                ),\n",
    "        dtick = 1,\n",
    "        showticklabels=True,\n",
    "        tickfont=dict(\n",
    "            family='Old Standard TT, serif',\n",
    "            size=14,\n",
    "            color='black'\n",
    "                ),\n",
    "            ),\n",
    "\n",
    "     yaxis=dict(\n",
    "        title='Rate',\n",
    "        titlefont=dict(\n",
    "            family='Old Standard TT, serif',\n",
    "            size=18,\n",
    "            color='black'\n",
    "                ),\n",
    "        showticklabels=True,\n",
    "        tickfont=dict(\n",
    "            family='Old Standard TT, serif',\n",
    "            size=14,\n",
    "            color='black'\n",
    "                    ),\n",
    "             )\n",
    ")\n",
    "\n",
    "fig = go.Figure(data=data, layout=layout)\n",
    "pyo.plot(fig, filename='line-mode')"
   ]
  },
  {
   "cell_type": "markdown",
   "metadata": {},
   "source": [
    "We can see from the chart above that the unemployment rate has slightly decreased over the years, while the suicide rate has noticeably decreased in 2014."
   ]
  },
  {
   "cell_type": "markdown",
   "metadata": {},
   "source": [
    "------"
   ]
  },
  {
   "cell_type": "markdown",
   "metadata": {},
   "source": [
    "# Unemployment Rate By Country and Year-------------- Good 👍🏻 ---------"
   ]
  },
  {
   "cell_type": "markdown",
   "metadata": {},
   "source": [
    "Here we extracted from the merged data the unemployment valuse based on the country and reshaped the data and cleadned null values to plot unemployment rate by countries and years."
   ]
  },
  {
   "cell_type": "code",
   "execution_count": 39,
   "metadata": {},
   "outputs": [],
   "source": [
    "empcondata = cleandata.groupby(['Country','Year'], as_index=False).agg({\"Unemployment_Rate\": \"sum\"}, inplace=True)"
   ]
  },
  {
   "cell_type": "code",
   "execution_count": 40,
   "metadata": {},
   "outputs": [
    {
     "data": {
      "text/html": [
       "<div>\n",
       "<style scoped>\n",
       "    .dataframe tbody tr th:only-of-type {\n",
       "        vertical-align: middle;\n",
       "    }\n",
       "\n",
       "    .dataframe tbody tr th {\n",
       "        vertical-align: top;\n",
       "    }\n",
       "\n",
       "    .dataframe thead th {\n",
       "        text-align: right;\n",
       "    }\n",
       "</style>\n",
       "<table border=\"1\" class=\"dataframe\">\n",
       "  <thead>\n",
       "    <tr style=\"text-align: right;\">\n",
       "      <th></th>\n",
       "      <th>Country</th>\n",
       "      <th>Year</th>\n",
       "      <th>Unemployment_Rate</th>\n",
       "    </tr>\n",
       "  </thead>\n",
       "  <tbody>\n",
       "    <tr>\n",
       "      <th>0</th>\n",
       "      <td>Albania</td>\n",
       "      <td>2010</td>\n",
       "      <td>25.799999</td>\n",
       "    </tr>\n",
       "    <tr>\n",
       "      <th>1</th>\n",
       "      <td>Argentina</td>\n",
       "      <td>2010</td>\n",
       "      <td>19.500000</td>\n",
       "    </tr>\n",
       "    <tr>\n",
       "      <th>2</th>\n",
       "      <td>Argentina</td>\n",
       "      <td>2011</td>\n",
       "      <td>18.799999</td>\n",
       "    </tr>\n",
       "    <tr>\n",
       "      <th>3</th>\n",
       "      <td>Argentina</td>\n",
       "      <td>2012</td>\n",
       "      <td>18.400000</td>\n",
       "    </tr>\n",
       "    <tr>\n",
       "      <th>4</th>\n",
       "      <td>Argentina</td>\n",
       "      <td>2013</td>\n",
       "      <td>19.700001</td>\n",
       "    </tr>\n",
       "  </tbody>\n",
       "</table>\n",
       "</div>"
      ],
      "text/plain": [
       "     Country  Year  Unemployment_Rate\n",
       "0    Albania  2010          25.799999\n",
       "1  Argentina  2010          19.500000\n",
       "2  Argentina  2011          18.799999\n",
       "3  Argentina  2012          18.400000\n",
       "4  Argentina  2013          19.700001"
      ]
     },
     "execution_count": 40,
     "metadata": {},
     "output_type": "execute_result"
    }
   ],
   "source": [
    "empcondata.head()"
   ]
  },
  {
   "cell_type": "code",
   "execution_count": 41,
   "metadata": {},
   "outputs": [],
   "source": [
    "#Reshape columns to plot\n",
    "empyears = empcondata.pivot( index= 'Country',columns='Year')['Unemployment_Rate'].reset_index()\n",
    "empyears.columns.name = None"
   ]
  },
  {
   "cell_type": "code",
   "execution_count": 42,
   "metadata": {},
   "outputs": [
    {
     "data": {
      "text/html": [
       "<div>\n",
       "<style scoped>\n",
       "    .dataframe tbody tr th:only-of-type {\n",
       "        vertical-align: middle;\n",
       "    }\n",
       "\n",
       "    .dataframe tbody tr th {\n",
       "        vertical-align: top;\n",
       "    }\n",
       "\n",
       "    .dataframe thead th {\n",
       "        text-align: right;\n",
       "    }\n",
       "</style>\n",
       "<table border=\"1\" class=\"dataframe\">\n",
       "  <thead>\n",
       "    <tr style=\"text-align: right;\">\n",
       "      <th></th>\n",
       "      <th>Country</th>\n",
       "      <th>2010</th>\n",
       "      <th>2011</th>\n",
       "      <th>2012</th>\n",
       "      <th>2013</th>\n",
       "      <th>2014</th>\n",
       "    </tr>\n",
       "  </thead>\n",
       "  <tbody>\n",
       "    <tr>\n",
       "      <th>0</th>\n",
       "      <td>Albania</td>\n",
       "      <td>25.799999</td>\n",
       "      <td>NaN</td>\n",
       "      <td>NaN</td>\n",
       "      <td>NaN</td>\n",
       "      <td>NaN</td>\n",
       "    </tr>\n",
       "    <tr>\n",
       "      <th>1</th>\n",
       "      <td>Argentina</td>\n",
       "      <td>19.500000</td>\n",
       "      <td>18.799999</td>\n",
       "      <td>18.4</td>\n",
       "      <td>19.700001</td>\n",
       "      <td>21.299999</td>\n",
       "    </tr>\n",
       "    <tr>\n",
       "      <th>2</th>\n",
       "      <td>Armenia</td>\n",
       "      <td>38.299999</td>\n",
       "      <td>38.700001</td>\n",
       "      <td>35.0</td>\n",
       "      <td>32.500000</td>\n",
       "      <td>35.099998</td>\n",
       "    </tr>\n",
       "    <tr>\n",
       "      <th>3</th>\n",
       "      <td>Australia</td>\n",
       "      <td>11.400000</td>\n",
       "      <td>11.400000</td>\n",
       "      <td>11.7</td>\n",
       "      <td>12.200000</td>\n",
       "      <td>13.100000</td>\n",
       "    </tr>\n",
       "    <tr>\n",
       "      <th>4</th>\n",
       "      <td>Austria</td>\n",
       "      <td>8.800000</td>\n",
       "      <td>8.200000</td>\n",
       "      <td>8.7</td>\n",
       "      <td>9.100000</td>\n",
       "      <td>9.200000</td>\n",
       "    </tr>\n",
       "  </tbody>\n",
       "</table>\n",
       "</div>"
      ],
      "text/plain": [
       "     Country       2010       2011  2012       2013       2014\n",
       "0    Albania  25.799999        NaN   NaN        NaN        NaN\n",
       "1  Argentina  19.500000  18.799999  18.4  19.700001  21.299999\n",
       "2    Armenia  38.299999  38.700001  35.0  32.500000  35.099998\n",
       "3  Australia  11.400000  11.400000  11.7  12.200000  13.100000\n",
       "4    Austria   8.800000   8.200000   8.7   9.100000   9.200000"
      ]
     },
     "execution_count": 42,
     "metadata": {},
     "output_type": "execute_result"
    }
   ],
   "source": [
    "#Dataset after reshapping\n",
    "empyears.head()"
   ]
  },
  {
   "cell_type": "code",
   "execution_count": 43,
   "metadata": {},
   "outputs": [],
   "source": [
    "empdataup=empyears.dropna()"
   ]
  },
  {
   "cell_type": "code",
   "execution_count": 54,
   "metadata": {},
   "outputs": [
    {
     "data": {
      "text/plain": [
       "'file:///Users/rzanabdullah/temp-plot.html'"
      ]
     },
     "execution_count": 54,
     "metadata": {},
     "output_type": "execute_result"
    }
   ],
   "source": [
    "# Plot unemployment rate in bar chart by country and years with Pandas\n",
    "\n",
    "data = [\n",
    "    go.Bar(\n",
    "        x=empdataup['Country'],\n",
    "        y=empdataup['2010'],\n",
    "        name='Year 2010',\n",
    "        text = empdataup['Country']\n",
    "    ),\n",
    "    go.Bar(\n",
    "        x=empdataup['Country'], \n",
    "        y=empdataup['2011'],\n",
    "        name='Year 2011',\n",
    "        text = empdataup['Country']\n",
    "    ),\n",
    "    go.Bar(\n",
    "       x=empdataup['Country'], \n",
    "        y=empdataup['2012'],\n",
    "        name='Year 2012',\n",
    "        text = empdataup['Country']\n",
    "    ),\n",
    "    go.Bar(\n",
    "        x=empdataup['Country'], \n",
    "        y=empdataup['2013'],\n",
    "        name='Year 2013',\n",
    "        text = empdataup['Country']\n",
    "    ),\n",
    "    go.Bar(\n",
    "        x=empdataup['Country'], \n",
    "        y=empdataup['2014'],\n",
    "        name='Year 2014',\n",
    "        text = empdataup['Country']\n",
    "    )\n",
    "    \n",
    "\n",
    "]\n",
    "\n",
    "layout = go.Layout(\n",
    "    barmode='stack',\n",
    "    title='Unemployment Rate By Country and Year'\n",
    ")\n",
    "\n",
    "fig = go.Figure(data=data, layout=layout)\n",
    "pyo.plot({\"data\":data, \"layout\":layout})"
   ]
  },
  {
   "cell_type": "markdown",
   "metadata": {},
   "source": [
    "We can find the unemployment rate for each country by years in the above figure."
   ]
  },
  {
   "cell_type": "markdown",
   "metadata": {},
   "source": [
    "-------"
   ]
  },
  {
   "cell_type": "markdown",
   "metadata": {},
   "source": [
    "# Mapping youth Suicide Rate from 2010 to 2014"
   ]
  },
  {
   "cell_type": "code",
   "execution_count": 45,
   "metadata": {},
   "outputs": [],
   "source": [
    "#group the data by country and year to sum the suicide rate\n",
    "sugroup = cleandata.groupby('Country', as_index=False).agg({\"suicide_Rate\": \"sum\"}, inplace=True)"
   ]
  },
  {
   "cell_type": "code",
   "execution_count": 46,
   "metadata": {},
   "outputs": [
    {
     "data": {
      "text/html": [
       "<div>\n",
       "<style scoped>\n",
       "    .dataframe tbody tr th:only-of-type {\n",
       "        vertical-align: middle;\n",
       "    }\n",
       "\n",
       "    .dataframe tbody tr th {\n",
       "        vertical-align: top;\n",
       "    }\n",
       "\n",
       "    .dataframe thead th {\n",
       "        text-align: right;\n",
       "    }\n",
       "</style>\n",
       "<table border=\"1\" class=\"dataframe\">\n",
       "  <thead>\n",
       "    <tr style=\"text-align: right;\">\n",
       "      <th></th>\n",
       "      <th>Country</th>\n",
       "      <th>suicide_Rate</th>\n",
       "    </tr>\n",
       "  </thead>\n",
       "  <tbody>\n",
       "    <tr>\n",
       "      <th>0</th>\n",
       "      <td>Albania</td>\n",
       "      <td>5.86</td>\n",
       "    </tr>\n",
       "    <tr>\n",
       "      <th>1</th>\n",
       "      <td>Argentina</td>\n",
       "      <td>128.77</td>\n",
       "    </tr>\n",
       "    <tr>\n",
       "      <th>2</th>\n",
       "      <td>Armenia</td>\n",
       "      <td>14.45</td>\n",
       "    </tr>\n",
       "    <tr>\n",
       "      <th>3</th>\n",
       "      <td>Australia</td>\n",
       "      <td>107.85</td>\n",
       "    </tr>\n",
       "    <tr>\n",
       "      <th>4</th>\n",
       "      <td>Austria</td>\n",
       "      <td>84.98</td>\n",
       "    </tr>\n",
       "  </tbody>\n",
       "</table>\n",
       "</div>"
      ],
      "text/plain": [
       "     Country  suicide_Rate\n",
       "0    Albania          5.86\n",
       "1  Argentina        128.77\n",
       "2    Armenia         14.45\n",
       "3  Australia        107.85\n",
       "4    Austria         84.98"
      ]
     },
     "execution_count": 46,
     "metadata": {},
     "output_type": "execute_result"
    }
   ],
   "source": [
    "sugroup.head()"
   ]
  },
  {
   "cell_type": "code",
   "execution_count": 47,
   "metadata": {
    "scrolled": false
   },
   "outputs": [
    {
     "data": {
      "application/vnd.plotly.v1+json": {
       "config": {
        "linkText": "Export to plot.ly",
        "plotlyServerURL": "https://plot.ly",
        "showLink": false
       },
       "data": [
        {
         "autocolorscale": true,
         "colorbar": {
          "autotick": false,
          "tickprefix": "",
          "title": "Suicide Rate"
         },
         "locationmode": "country names",
         "locations": [
          "Albania",
          "Argentina",
          "Armenia",
          "Australia",
          "Austria",
          "Bahrain",
          "Barbados",
          "Belarus",
          "Belgium",
          "Belize",
          "Bosnia and Herzegovina",
          "Brazil",
          "Bulgaria",
          "Cabo Verde",
          "Canada",
          "Chile",
          "Colombia",
          "Costa Rica",
          "Croatia",
          "Cuba",
          "Cyprus",
          "Czech Republic",
          "Denmark",
          "Ecuador",
          "El Salvador",
          "Estonia",
          "Fiji",
          "Finland",
          "France",
          "Georgia",
          "Germany",
          "Greece",
          "Guatemala",
          "Guyana",
          "Hungary",
          "Iceland",
          "Ireland",
          "Israel",
          "Italy",
          "Jamaica",
          "Japan",
          "Kazakhstan",
          "Kuwait",
          "Latvia",
          "Lithuania",
          "Luxembourg",
          "Maldives",
          "Malta",
          "Mauritius",
          "Mexico",
          "Netherlands",
          "New Zealand",
          "Nicaragua",
          "Norway",
          "Oman",
          "Panama",
          "Paraguay",
          "Philippines",
          "Poland",
          "Portugal",
          "Puerto Rico",
          "Qatar",
          "Romania",
          "Russian Federation",
          "Serbia",
          "Singapore",
          "Slovenia",
          "South Africa",
          "Spain",
          "Suriname",
          "Sweden",
          "Switzerland",
          "Thailand",
          "Trinidad and Tobago",
          "Turkey",
          "Turkmenistan",
          "Ukraine",
          "United Arab Emirates",
          "United Kingdom",
          "United States",
          "Uruguay",
          "Uzbekistan"
         ],
         "marker": {
          "line": {
           "color": "rgb(190,190,190)",
           "width": 0.5
          }
         },
         "reversescale": false,
         "text": [
          "Albania",
          "Argentina",
          "Armenia",
          "Australia",
          "Austria",
          "Bahrain",
          "Barbados",
          "Belarus",
          "Belgium",
          "Belize",
          "Bosnia and Herzegovina",
          "Brazil",
          "Bulgaria",
          "Cabo Verde",
          "Canada",
          "Chile",
          "Colombia",
          "Costa Rica",
          "Croatia",
          "Cuba",
          "Cyprus",
          "Czech Republic",
          "Denmark",
          "Ecuador",
          "El Salvador",
          "Estonia",
          "Fiji",
          "Finland",
          "France",
          "Georgia",
          "Germany",
          "Greece",
          "Guatemala",
          "Guyana",
          "Hungary",
          "Iceland",
          "Ireland",
          "Israel",
          "Italy",
          "Jamaica",
          "Japan",
          "Kazakhstan",
          "Kuwait",
          "Latvia",
          "Lithuania",
          "Luxembourg",
          "Maldives",
          "Malta",
          "Mauritius",
          "Mexico",
          "Netherlands",
          "New Zealand",
          "Nicaragua",
          "Norway",
          "Oman",
          "Panama",
          "Paraguay",
          "Philippines",
          "Poland",
          "Portugal",
          "Puerto Rico",
          "Qatar",
          "Romania",
          "Russian Federation",
          "Serbia",
          "Singapore",
          "Slovenia",
          "South Africa",
          "Spain",
          "Suriname",
          "Sweden",
          "Switzerland",
          "Thailand",
          "Trinidad and Tobago",
          "Turkey",
          "Turkmenistan",
          "Ukraine",
          "United Arab Emirates",
          "United Kingdom",
          "United States",
          "Uruguay",
          "Uzbekistan"
         ],
         "type": "choropleth",
         "z": [
          5.859999999999999,
          128.76999999999998,
          14.450000000000001,
          107.85000000000001,
          84.98,
          11.290000000000001,
          0,
          125.68999999999998,
          95.20000000000002,
          78.8,
          2.99,
          48.47999999999999,
          54.08,
          10.49,
          83.33,
          117.46,
          73.83,
          72.42,
          85.57,
          53.38,
          45.230000000000004,
          92.89999999999999,
          49.85,
          103.22999999999999,
          105.24,
          118.32999999999998,
          22.939999999999998,
          166.06000000000003,
          58.46999999999999,
          22.23,
          61.1,
          24.78,
          53.99000000000001,
          269.71000000000004,
          73.32000000000001,
          109.11999999999999,
          132.4,
          41.29,
          33.800000000000004,
          2.2,
          144.82999999999998,
          207.72000000000003,
          15.9,
          137.5,
          227.45000000000002,
          62.08,
          1.99,
          42.08,
          113.05000000000001,
          72.3,
          62.5,
          155.46,
          97.55000000000001,
          101.17999999999999,
          1.07,
          54.989999999999995,
          86.15,
          15.94,
          115.15,
          27.709999999999997,
          40.449999999999996,
          21.54,
          69.7,
          197.66,
          42.9,
          58.56999999999999,
          100.2,
          13.219999999999999,
          32.19,
          274.96999999999997,
          100.77000000000001,
          73.57,
          45.349999999999994,
          47.15,
          25.65,
          44.69,
          122.97999999999999,
          2.93,
          52.33,
          108.06,
          135.79000000000002,
          94.59
         ]
        }
       ],
       "layout": {
        "title": "Youth Suicide Rate by Country from 2010 to 2014"
       }
      },
      "text/html": [
       "<div id=\"c3935918-7ebf-432d-9db9-a4a07a05f84a\" style=\"height: 525px; width: 100%;\" class=\"plotly-graph-div\"></div><script type=\"text/javascript\">require([\"plotly\"], function(Plotly) { window.PLOTLYENV=window.PLOTLYENV || {};window.PLOTLYENV.BASE_URL=\"https://plot.ly\";Plotly.newPlot(\"c3935918-7ebf-432d-9db9-a4a07a05f84a\", [{\"type\": \"choropleth\", \"locations\": [\"Albania\", \"Argentina\", \"Armenia\", \"Australia\", \"Austria\", \"Bahrain\", \"Barbados\", \"Belarus\", \"Belgium\", \"Belize\", \"Bosnia and Herzegovina\", \"Brazil\", \"Bulgaria\", \"Cabo Verde\", \"Canada\", \"Chile\", \"Colombia\", \"Costa Rica\", \"Croatia\", \"Cuba\", \"Cyprus\", \"Czech Republic\", \"Denmark\", \"Ecuador\", \"El Salvador\", \"Estonia\", \"Fiji\", \"Finland\", \"France\", \"Georgia\", \"Germany\", \"Greece\", \"Guatemala\", \"Guyana\", \"Hungary\", \"Iceland\", \"Ireland\", \"Israel\", \"Italy\", \"Jamaica\", \"Japan\", \"Kazakhstan\", \"Kuwait\", \"Latvia\", \"Lithuania\", \"Luxembourg\", \"Maldives\", \"Malta\", \"Mauritius\", \"Mexico\", \"Netherlands\", \"New Zealand\", \"Nicaragua\", \"Norway\", \"Oman\", \"Panama\", \"Paraguay\", \"Philippines\", \"Poland\", \"Portugal\", \"Puerto Rico\", \"Qatar\", \"Romania\", \"Russian Federation\", \"Serbia\", \"Singapore\", \"Slovenia\", \"South Africa\", \"Spain\", \"Suriname\", \"Sweden\", \"Switzerland\", \"Thailand\", \"Trinidad and Tobago\", \"Turkey\", \"Turkmenistan\", \"Ukraine\", \"United Arab Emirates\", \"United Kingdom\", \"United States\", \"Uruguay\", \"Uzbekistan\"], \"locationmode\": \"country names\", \"z\": [5.859999999999999, 128.76999999999998, 14.450000000000001, 107.85000000000001, 84.98, 11.290000000000001, 0.0, 125.68999999999998, 95.20000000000002, 78.8, 2.99, 48.47999999999999, 54.08, 10.49, 83.33, 117.46, 73.83, 72.42, 85.57, 53.38, 45.230000000000004, 92.89999999999999, 49.85, 103.22999999999999, 105.24, 118.32999999999998, 22.939999999999998, 166.06000000000003, 58.46999999999999, 22.23, 61.1, 24.78, 53.99000000000001, 269.71000000000004, 73.32000000000001, 109.11999999999999, 132.4, 41.29, 33.800000000000004, 2.2, 144.82999999999998, 207.72000000000003, 15.9, 137.5, 227.45000000000002, 62.08, 1.99, 42.08, 113.05000000000001, 72.3, 62.5, 155.46, 97.55000000000001, 101.17999999999999, 1.07, 54.989999999999995, 86.15, 15.94, 115.15, 27.709999999999997, 40.449999999999996, 21.54, 69.7, 197.66, 42.9, 58.56999999999999, 100.2, 13.219999999999999, 32.19, 274.96999999999997, 100.77000000000001, 73.57, 45.349999999999994, 47.15, 25.65, 44.69, 122.97999999999999, 2.93, 52.33, 108.06, 135.79000000000002, 94.59], \"text\": [\"Albania\", \"Argentina\", \"Armenia\", \"Australia\", \"Austria\", \"Bahrain\", \"Barbados\", \"Belarus\", \"Belgium\", \"Belize\", \"Bosnia and Herzegovina\", \"Brazil\", \"Bulgaria\", \"Cabo Verde\", \"Canada\", \"Chile\", \"Colombia\", \"Costa Rica\", \"Croatia\", \"Cuba\", \"Cyprus\", \"Czech Republic\", \"Denmark\", \"Ecuador\", \"El Salvador\", \"Estonia\", \"Fiji\", \"Finland\", \"France\", \"Georgia\", \"Germany\", \"Greece\", \"Guatemala\", \"Guyana\", \"Hungary\", \"Iceland\", \"Ireland\", \"Israel\", \"Italy\", \"Jamaica\", \"Japan\", \"Kazakhstan\", \"Kuwait\", \"Latvia\", \"Lithuania\", \"Luxembourg\", \"Maldives\", \"Malta\", \"Mauritius\", \"Mexico\", \"Netherlands\", \"New Zealand\", \"Nicaragua\", \"Norway\", \"Oman\", \"Panama\", \"Paraguay\", \"Philippines\", \"Poland\", \"Portugal\", \"Puerto Rico\", \"Qatar\", \"Romania\", \"Russian Federation\", \"Serbia\", \"Singapore\", \"Slovenia\", \"South Africa\", \"Spain\", \"Suriname\", \"Sweden\", \"Switzerland\", \"Thailand\", \"Trinidad and Tobago\", \"Turkey\", \"Turkmenistan\", \"Ukraine\", \"United Arab Emirates\", \"United Kingdom\", \"United States\", \"Uruguay\", \"Uzbekistan\"], \"autocolorscale\": true, \"reversescale\": false, \"marker\": {\"line\": {\"color\": \"rgb(190,190,190)\", \"width\": 0.5}}, \"colorbar\": {\"autotick\": false, \"tickprefix\": \"\", \"title\": \"Suicide Rate\"}}], {\"title\": \"Youth Suicide Rate by Country from 2010 to 2014\"}, {\"showLink\": false, \"linkText\": \"Export to plot.ly\", \"plotlyServerURL\": \"https://plot.ly\"})});</script><script type=\"text/javascript\">window.addEventListener(\"resize\", function(){window._Plotly.Plots.resize(document.getElementById(\"c3935918-7ebf-432d-9db9-a4a07a05f84a\"));});</script>"
      ],
      "text/vnd.plotly.v1+html": [
       "<div id=\"c3935918-7ebf-432d-9db9-a4a07a05f84a\" style=\"height: 525px; width: 100%;\" class=\"plotly-graph-div\"></div><script type=\"text/javascript\">require([\"plotly\"], function(Plotly) { window.PLOTLYENV=window.PLOTLYENV || {};window.PLOTLYENV.BASE_URL=\"https://plot.ly\";Plotly.newPlot(\"c3935918-7ebf-432d-9db9-a4a07a05f84a\", [{\"type\": \"choropleth\", \"locations\": [\"Albania\", \"Argentina\", \"Armenia\", \"Australia\", \"Austria\", \"Bahrain\", \"Barbados\", \"Belarus\", \"Belgium\", \"Belize\", \"Bosnia and Herzegovina\", \"Brazil\", \"Bulgaria\", \"Cabo Verde\", \"Canada\", \"Chile\", \"Colombia\", \"Costa Rica\", \"Croatia\", \"Cuba\", \"Cyprus\", \"Czech Republic\", \"Denmark\", \"Ecuador\", \"El Salvador\", \"Estonia\", \"Fiji\", \"Finland\", \"France\", \"Georgia\", \"Germany\", \"Greece\", \"Guatemala\", \"Guyana\", \"Hungary\", \"Iceland\", \"Ireland\", \"Israel\", \"Italy\", \"Jamaica\", \"Japan\", \"Kazakhstan\", \"Kuwait\", \"Latvia\", \"Lithuania\", \"Luxembourg\", \"Maldives\", \"Malta\", \"Mauritius\", \"Mexico\", \"Netherlands\", \"New Zealand\", \"Nicaragua\", \"Norway\", \"Oman\", \"Panama\", \"Paraguay\", \"Philippines\", \"Poland\", \"Portugal\", \"Puerto Rico\", \"Qatar\", \"Romania\", \"Russian Federation\", \"Serbia\", \"Singapore\", \"Slovenia\", \"South Africa\", \"Spain\", \"Suriname\", \"Sweden\", \"Switzerland\", \"Thailand\", \"Trinidad and Tobago\", \"Turkey\", \"Turkmenistan\", \"Ukraine\", \"United Arab Emirates\", \"United Kingdom\", \"United States\", \"Uruguay\", \"Uzbekistan\"], \"locationmode\": \"country names\", \"z\": [5.859999999999999, 128.76999999999998, 14.450000000000001, 107.85000000000001, 84.98, 11.290000000000001, 0.0, 125.68999999999998, 95.20000000000002, 78.8, 2.99, 48.47999999999999, 54.08, 10.49, 83.33, 117.46, 73.83, 72.42, 85.57, 53.38, 45.230000000000004, 92.89999999999999, 49.85, 103.22999999999999, 105.24, 118.32999999999998, 22.939999999999998, 166.06000000000003, 58.46999999999999, 22.23, 61.1, 24.78, 53.99000000000001, 269.71000000000004, 73.32000000000001, 109.11999999999999, 132.4, 41.29, 33.800000000000004, 2.2, 144.82999999999998, 207.72000000000003, 15.9, 137.5, 227.45000000000002, 62.08, 1.99, 42.08, 113.05000000000001, 72.3, 62.5, 155.46, 97.55000000000001, 101.17999999999999, 1.07, 54.989999999999995, 86.15, 15.94, 115.15, 27.709999999999997, 40.449999999999996, 21.54, 69.7, 197.66, 42.9, 58.56999999999999, 100.2, 13.219999999999999, 32.19, 274.96999999999997, 100.77000000000001, 73.57, 45.349999999999994, 47.15, 25.65, 44.69, 122.97999999999999, 2.93, 52.33, 108.06, 135.79000000000002, 94.59], \"text\": [\"Albania\", \"Argentina\", \"Armenia\", \"Australia\", \"Austria\", \"Bahrain\", \"Barbados\", \"Belarus\", \"Belgium\", \"Belize\", \"Bosnia and Herzegovina\", \"Brazil\", \"Bulgaria\", \"Cabo Verde\", \"Canada\", \"Chile\", \"Colombia\", \"Costa Rica\", \"Croatia\", \"Cuba\", \"Cyprus\", \"Czech Republic\", \"Denmark\", \"Ecuador\", \"El Salvador\", \"Estonia\", \"Fiji\", \"Finland\", \"France\", \"Georgia\", \"Germany\", \"Greece\", \"Guatemala\", \"Guyana\", \"Hungary\", \"Iceland\", \"Ireland\", \"Israel\", \"Italy\", \"Jamaica\", \"Japan\", \"Kazakhstan\", \"Kuwait\", \"Latvia\", \"Lithuania\", \"Luxembourg\", \"Maldives\", \"Malta\", \"Mauritius\", \"Mexico\", \"Netherlands\", \"New Zealand\", \"Nicaragua\", \"Norway\", \"Oman\", \"Panama\", \"Paraguay\", \"Philippines\", \"Poland\", \"Portugal\", \"Puerto Rico\", \"Qatar\", \"Romania\", \"Russian Federation\", \"Serbia\", \"Singapore\", \"Slovenia\", \"South Africa\", \"Spain\", \"Suriname\", \"Sweden\", \"Switzerland\", \"Thailand\", \"Trinidad and Tobago\", \"Turkey\", \"Turkmenistan\", \"Ukraine\", \"United Arab Emirates\", \"United Kingdom\", \"United States\", \"Uruguay\", \"Uzbekistan\"], \"autocolorscale\": true, \"reversescale\": false, \"marker\": {\"line\": {\"color\": \"rgb(190,190,190)\", \"width\": 0.5}}, \"colorbar\": {\"autotick\": false, \"tickprefix\": \"\", \"title\": \"Suicide Rate\"}}], {\"title\": \"Youth Suicide Rate by Country from 2010 to 2014\"}, {\"showLink\": false, \"linkText\": \"Export to plot.ly\", \"plotlyServerURL\": \"https://plot.ly\"})});</script><script type=\"text/javascript\">window.addEventListener(\"resize\", function(){window._Plotly.Plots.resize(document.getElementById(\"c3935918-7ebf-432d-9db9-a4a07a05f84a\"));});</script>"
      ]
     },
     "metadata": {},
     "output_type": "display_data"
    }
   ],
   "source": [
    "# Plot suicide rate in map\n",
    "\n",
    "data1 = [ dict(\n",
    "   \n",
    "        type = 'choropleth',\n",
    "        locations = sugroup['Country'],\n",
    "        locationmode = 'country names',\n",
    "        z = sugroup['suicide_Rate'],\n",
    "        text = sugroup['Country'],\n",
    "    \n",
    "        autocolorscale = True,\n",
    "        reversescale = False,\n",
    "        marker = dict(\n",
    "            line = dict (\n",
    "                color = 'rgb(190,190,190)',\n",
    "                width = 0.5\n",
    "            ) ),\n",
    "        colorbar = dict(\n",
    "            autotick = False,\n",
    "            tickprefix = '',\n",
    "            title = 'Suicide Rate'),\n",
    ")]\n",
    "\n",
    "layout = {\"title\":\"Youth Suicide Rate by Country from 2010 to 2014\"}\n",
    "\n",
    "\n",
    "\n",
    "fig = dict( data=data1, layout=layout )\n",
    "plotly.offline.iplot( fig, validate=False, filename='loans-world-map')"
   ]
  },
  {
   "cell_type": "markdown",
   "metadata": {},
   "source": [
    "From above visualization we can find that Suriname, Guyana and Lithuania which are denoted in dark red has the most suicide rates from 2010 to 2014. while Oman has the least numbers of suicides in gray."
   ]
  },
  {
   "cell_type": "markdown",
   "metadata": {},
   "source": [
    "----------"
   ]
  },
  {
   "cell_type": "markdown",
   "metadata": {},
   "source": [
    "# Mapping youth Unemployment Rate from 2010 to 2014"
   ]
  },
  {
   "cell_type": "code",
   "execution_count": 48,
   "metadata": {},
   "outputs": [],
   "source": [
    "#group the data by country and year to sum the suicide rate\n",
    "unemplgroup = cleandata.groupby('Country', as_index=False).agg({\"Unemployment_Rate\": \"sum\"}, inplace=True)"
   ]
  },
  {
   "cell_type": "code",
   "execution_count": 49,
   "metadata": {},
   "outputs": [
    {
     "data": {
      "text/html": [
       "<div>\n",
       "<style scoped>\n",
       "    .dataframe tbody tr th:only-of-type {\n",
       "        vertical-align: middle;\n",
       "    }\n",
       "\n",
       "    .dataframe tbody tr th {\n",
       "        vertical-align: top;\n",
       "    }\n",
       "\n",
       "    .dataframe thead th {\n",
       "        text-align: right;\n",
       "    }\n",
       "</style>\n",
       "<table border=\"1\" class=\"dataframe\">\n",
       "  <thead>\n",
       "    <tr style=\"text-align: right;\">\n",
       "      <th></th>\n",
       "      <th>Country</th>\n",
       "      <th>Unemployment_Rate</th>\n",
       "    </tr>\n",
       "  </thead>\n",
       "  <tbody>\n",
       "    <tr>\n",
       "      <th>0</th>\n",
       "      <td>Albania</td>\n",
       "      <td>25.799999</td>\n",
       "    </tr>\n",
       "    <tr>\n",
       "      <th>1</th>\n",
       "      <td>Argentina</td>\n",
       "      <td>97.699999</td>\n",
       "    </tr>\n",
       "    <tr>\n",
       "      <th>2</th>\n",
       "      <td>Armenia</td>\n",
       "      <td>179.599998</td>\n",
       "    </tr>\n",
       "    <tr>\n",
       "      <th>3</th>\n",
       "      <td>Australia</td>\n",
       "      <td>59.799999</td>\n",
       "    </tr>\n",
       "    <tr>\n",
       "      <th>4</th>\n",
       "      <td>Austria</td>\n",
       "      <td>44.000000</td>\n",
       "    </tr>\n",
       "  </tbody>\n",
       "</table>\n",
       "</div>"
      ],
      "text/plain": [
       "     Country  Unemployment_Rate\n",
       "0    Albania          25.799999\n",
       "1  Argentina          97.699999\n",
       "2    Armenia         179.599998\n",
       "3  Australia          59.799999\n",
       "4    Austria          44.000000"
      ]
     },
     "execution_count": 49,
     "metadata": {},
     "output_type": "execute_result"
    }
   ],
   "source": [
    "unemplgroup.head()"
   ]
  },
  {
   "cell_type": "code",
   "execution_count": 50,
   "metadata": {
    "scrolled": false
   },
   "outputs": [
    {
     "data": {
      "application/vnd.plotly.v1+json": {
       "config": {
        "linkText": "Export to plot.ly",
        "plotlyServerURL": "https://plot.ly",
        "showLink": false
       },
       "data": [
        {
         "autocolorscale": false,
         "colorbar": {
          "autotick": false,
          "tickprefix": "",
          "title": "Unemployment Rate"
         },
         "colorscale": "Viridis",
         "locationmode": "country names",
         "locations": [
          "Albania",
          "Argentina",
          "Armenia",
          "Australia",
          "Austria",
          "Bahrain",
          "Barbados",
          "Belarus",
          "Belgium",
          "Belize",
          "Bosnia and Herzegovina",
          "Brazil",
          "Bulgaria",
          "Cabo Verde",
          "Canada",
          "Chile",
          "Colombia",
          "Costa Rica",
          "Croatia",
          "Cuba",
          "Cyprus",
          "Czech Republic",
          "Denmark",
          "Ecuador",
          "El Salvador",
          "Estonia",
          "Fiji",
          "Finland",
          "France",
          "Georgia",
          "Germany",
          "Greece",
          "Guatemala",
          "Guyana",
          "Hungary",
          "Iceland",
          "Ireland",
          "Israel",
          "Italy",
          "Jamaica",
          "Japan",
          "Kazakhstan",
          "Kuwait",
          "Latvia",
          "Lithuania",
          "Luxembourg",
          "Maldives",
          "Malta",
          "Mauritius",
          "Mexico",
          "Netherlands",
          "New Zealand",
          "Nicaragua",
          "Norway",
          "Oman",
          "Panama",
          "Paraguay",
          "Philippines",
          "Poland",
          "Portugal",
          "Puerto Rico",
          "Qatar",
          "Romania",
          "Russian Federation",
          "Serbia",
          "Singapore",
          "Slovenia",
          "South Africa",
          "Spain",
          "Suriname",
          "Sweden",
          "Switzerland",
          "Thailand",
          "Trinidad and Tobago",
          "Turkey",
          "Turkmenistan",
          "Ukraine",
          "United Arab Emirates",
          "United Kingdom",
          "United States",
          "Uruguay",
          "Uzbekistan"
         ],
         "marker": {
          "line": {
           "color": "rgb(180,180,180)",
           "width": 0.5
          }
         },
         "reversescale": true,
         "text": [
          "Albania",
          "Argentina",
          "Armenia",
          "Australia",
          "Austria",
          "Bahrain",
          "Barbados",
          "Belarus",
          "Belgium",
          "Belize",
          "Bosnia and Herzegovina",
          "Brazil",
          "Bulgaria",
          "Cabo Verde",
          "Canada",
          "Chile",
          "Colombia",
          "Costa Rica",
          "Croatia",
          "Cuba",
          "Cyprus",
          "Czech Republic",
          "Denmark",
          "Ecuador",
          "El Salvador",
          "Estonia",
          "Fiji",
          "Finland",
          "France",
          "Georgia",
          "Germany",
          "Greece",
          "Guatemala",
          "Guyana",
          "Hungary",
          "Iceland",
          "Ireland",
          "Israel",
          "Italy",
          "Jamaica",
          "Japan",
          "Kazakhstan",
          "Kuwait",
          "Latvia",
          "Lithuania",
          "Luxembourg",
          "Maldives",
          "Malta",
          "Mauritius",
          "Mexico",
          "Netherlands",
          "New Zealand",
          "Nicaragua",
          "Norway",
          "Oman",
          "Panama",
          "Paraguay",
          "Philippines",
          "Poland",
          "Portugal",
          "Puerto Rico",
          "Qatar",
          "Romania",
          "Russian Federation",
          "Serbia",
          "Singapore",
          "Slovenia",
          "South Africa",
          "Spain",
          "Suriname",
          "Sweden",
          "Switzerland",
          "Thailand",
          "Trinidad and Tobago",
          "Turkey",
          "Turkmenistan",
          "Ukraine",
          "United Arab Emirates",
          "United Kingdom",
          "United States",
          "Uruguay",
          "Uzbekistan"
         ],
         "type": "choropleth",
         "z": [
          25.79999924,
          97.69999886,
          179.59999847,
          59.799999240000005,
          43.99999999999999,
          53.59999943,
          103.5,
          49.69999981,
          107.5000019,
          115.59999848,
          114.59999847,
          76.69999981000001,
          131.90000152,
          18.10000038,
          57.00000095,
          84.90000152,
          103.89999962,
          91.89999961999999,
          210.39999771,
          33.599999905,
          136.80000114999999,
          91.60000038000001,
          67.90000057,
          53.500000001000004,
          59.799999240000005,
          112.60000038000001,
          40.300001140000006,
          95.89999961999999,
          115.89999962,
          176.99999618,
          41.599999905999994,
          243.10000229,
          29.799999713000002,
          92.69999886,
          128.5,
          66.10000038,
          140,
          59.20000076,
          175.89999961,
          59.5,
          38.200000764,
          23.500000001,
          93.20000076000001,
          136.60000039,
          136.80000114,
          85,
          50.89999962,
          69.20000076,
          111.60000228000001,
          48.199998857,
          47.90000057100001,
          67.70000171000001,
          49.800000663999995,
          44.000000001000004,
          38.09999848,
          57.89999962,
          52.299999241,
          32.89999962,
          126.5,
          164.49999619000002,
          144,
          7.3000000720000005,
          117.89999772,
          74.09999943,
          245.70000076,
          46.699999809999994,
          94.59999943,
          257.09999847,
          258.89999771,
          90.5,
          119.20000076000002,
          41.299999713999995,
          17.100000143,
          25.19999981,
          90.40000151999999,
          103.10000228000001,
          70.59999848,
          9.800000191,
          98.10000037999998,
          82.40000057,
          76.5,
          102.60000038000001
         ]
        }
       ],
       "layout": {
        "title": "Youth Unemployment Rate by Country from 2010 to 2014"
       }
      },
      "text/html": [
       "<div id=\"bd5e7155-ef1e-43f1-b912-f8dfb9cfda0f\" style=\"height: 525px; width: 100%;\" class=\"plotly-graph-div\"></div><script type=\"text/javascript\">require([\"plotly\"], function(Plotly) { window.PLOTLYENV=window.PLOTLYENV || {};window.PLOTLYENV.BASE_URL=\"https://plot.ly\";Plotly.newPlot(\"bd5e7155-ef1e-43f1-b912-f8dfb9cfda0f\", [{\"type\": \"choropleth\", \"locations\": [\"Albania\", \"Argentina\", \"Armenia\", \"Australia\", \"Austria\", \"Bahrain\", \"Barbados\", \"Belarus\", \"Belgium\", \"Belize\", \"Bosnia and Herzegovina\", \"Brazil\", \"Bulgaria\", \"Cabo Verde\", \"Canada\", \"Chile\", \"Colombia\", \"Costa Rica\", \"Croatia\", \"Cuba\", \"Cyprus\", \"Czech Republic\", \"Denmark\", \"Ecuador\", \"El Salvador\", \"Estonia\", \"Fiji\", \"Finland\", \"France\", \"Georgia\", \"Germany\", \"Greece\", \"Guatemala\", \"Guyana\", \"Hungary\", \"Iceland\", \"Ireland\", \"Israel\", \"Italy\", \"Jamaica\", \"Japan\", \"Kazakhstan\", \"Kuwait\", \"Latvia\", \"Lithuania\", \"Luxembourg\", \"Maldives\", \"Malta\", \"Mauritius\", \"Mexico\", \"Netherlands\", \"New Zealand\", \"Nicaragua\", \"Norway\", \"Oman\", \"Panama\", \"Paraguay\", \"Philippines\", \"Poland\", \"Portugal\", \"Puerto Rico\", \"Qatar\", \"Romania\", \"Russian Federation\", \"Serbia\", \"Singapore\", \"Slovenia\", \"South Africa\", \"Spain\", \"Suriname\", \"Sweden\", \"Switzerland\", \"Thailand\", \"Trinidad and Tobago\", \"Turkey\", \"Turkmenistan\", \"Ukraine\", \"United Arab Emirates\", \"United Kingdom\", \"United States\", \"Uruguay\", \"Uzbekistan\"], \"locationmode\": \"country names\", \"z\": [25.79999924, 97.69999886, 179.59999847, 59.799999240000005, 43.99999999999999, 53.59999943, 103.5, 49.69999981, 107.5000019, 115.59999848, 114.59999847, 76.69999981000001, 131.90000152, 18.10000038, 57.00000095, 84.90000152, 103.89999962, 91.89999961999999, 210.39999771, 33.599999905, 136.80000114999999, 91.60000038000001, 67.90000057, 53.500000001000004, 59.799999240000005, 112.60000038000001, 40.300001140000006, 95.89999961999999, 115.89999962, 176.99999618, 41.599999905999994, 243.10000229, 29.799999713000002, 92.69999886, 128.5, 66.10000038, 140.0, 59.20000076, 175.89999961, 59.5, 38.200000764, 23.500000001, 93.20000076000001, 136.60000039, 136.80000114, 85.0, 50.89999962, 69.20000076, 111.60000228000001, 48.199998857, 47.90000057100001, 67.70000171000001, 49.800000663999995, 44.000000001000004, 38.09999848, 57.89999962, 52.299999241, 32.89999962, 126.5, 164.49999619000002, 144.0, 7.3000000720000005, 117.89999772, 74.09999943, 245.70000076, 46.699999809999994, 94.59999943, 257.09999847, 258.89999771, 90.5, 119.20000076000002, 41.299999713999995, 17.100000143, 25.19999981, 90.40000151999999, 103.10000228000001, 70.59999848, 9.800000191, 98.10000037999998, 82.40000057, 76.5, 102.60000038000001], \"text\": [\"Albania\", \"Argentina\", \"Armenia\", \"Australia\", \"Austria\", \"Bahrain\", \"Barbados\", \"Belarus\", \"Belgium\", \"Belize\", \"Bosnia and Herzegovina\", \"Brazil\", \"Bulgaria\", \"Cabo Verde\", \"Canada\", \"Chile\", \"Colombia\", \"Costa Rica\", \"Croatia\", \"Cuba\", \"Cyprus\", \"Czech Republic\", \"Denmark\", \"Ecuador\", \"El Salvador\", \"Estonia\", \"Fiji\", \"Finland\", \"France\", \"Georgia\", \"Germany\", \"Greece\", \"Guatemala\", \"Guyana\", \"Hungary\", \"Iceland\", \"Ireland\", \"Israel\", \"Italy\", \"Jamaica\", \"Japan\", \"Kazakhstan\", \"Kuwait\", \"Latvia\", \"Lithuania\", \"Luxembourg\", \"Maldives\", \"Malta\", \"Mauritius\", \"Mexico\", \"Netherlands\", \"New Zealand\", \"Nicaragua\", \"Norway\", \"Oman\", \"Panama\", \"Paraguay\", \"Philippines\", \"Poland\", \"Portugal\", \"Puerto Rico\", \"Qatar\", \"Romania\", \"Russian Federation\", \"Serbia\", \"Singapore\", \"Slovenia\", \"South Africa\", \"Spain\", \"Suriname\", \"Sweden\", \"Switzerland\", \"Thailand\", \"Trinidad and Tobago\", \"Turkey\", \"Turkmenistan\", \"Ukraine\", \"United Arab Emirates\", \"United Kingdom\", \"United States\", \"Uruguay\", \"Uzbekistan\"], \"colorscale\": \"Viridis\", \"autocolorscale\": false, \"reversescale\": true, \"marker\": {\"line\": {\"color\": \"rgb(180,180,180)\", \"width\": 0.5}}, \"colorbar\": {\"autotick\": false, \"tickprefix\": \"\", \"title\": \"Unemployment Rate\"}}], {\"title\": \"Youth Unemployment Rate by Country from 2010 to 2014\"}, {\"showLink\": false, \"linkText\": \"Export to plot.ly\", \"plotlyServerURL\": \"https://plot.ly\"})});</script><script type=\"text/javascript\">window.addEventListener(\"resize\", function(){window._Plotly.Plots.resize(document.getElementById(\"bd5e7155-ef1e-43f1-b912-f8dfb9cfda0f\"));});</script>"
      ],
      "text/vnd.plotly.v1+html": [
       "<div id=\"bd5e7155-ef1e-43f1-b912-f8dfb9cfda0f\" style=\"height: 525px; width: 100%;\" class=\"plotly-graph-div\"></div><script type=\"text/javascript\">require([\"plotly\"], function(Plotly) { window.PLOTLYENV=window.PLOTLYENV || {};window.PLOTLYENV.BASE_URL=\"https://plot.ly\";Plotly.newPlot(\"bd5e7155-ef1e-43f1-b912-f8dfb9cfda0f\", [{\"type\": \"choropleth\", \"locations\": [\"Albania\", \"Argentina\", \"Armenia\", \"Australia\", \"Austria\", \"Bahrain\", \"Barbados\", \"Belarus\", \"Belgium\", \"Belize\", \"Bosnia and Herzegovina\", \"Brazil\", \"Bulgaria\", \"Cabo Verde\", \"Canada\", \"Chile\", \"Colombia\", \"Costa Rica\", \"Croatia\", \"Cuba\", \"Cyprus\", \"Czech Republic\", \"Denmark\", \"Ecuador\", \"El Salvador\", \"Estonia\", \"Fiji\", \"Finland\", \"France\", \"Georgia\", \"Germany\", \"Greece\", \"Guatemala\", \"Guyana\", \"Hungary\", \"Iceland\", \"Ireland\", \"Israel\", \"Italy\", \"Jamaica\", \"Japan\", \"Kazakhstan\", \"Kuwait\", \"Latvia\", \"Lithuania\", \"Luxembourg\", \"Maldives\", \"Malta\", \"Mauritius\", \"Mexico\", \"Netherlands\", \"New Zealand\", \"Nicaragua\", \"Norway\", \"Oman\", \"Panama\", \"Paraguay\", \"Philippines\", \"Poland\", \"Portugal\", \"Puerto Rico\", \"Qatar\", \"Romania\", \"Russian Federation\", \"Serbia\", \"Singapore\", \"Slovenia\", \"South Africa\", \"Spain\", \"Suriname\", \"Sweden\", \"Switzerland\", \"Thailand\", \"Trinidad and Tobago\", \"Turkey\", \"Turkmenistan\", \"Ukraine\", \"United Arab Emirates\", \"United Kingdom\", \"United States\", \"Uruguay\", \"Uzbekistan\"], \"locationmode\": \"country names\", \"z\": [25.79999924, 97.69999886, 179.59999847, 59.799999240000005, 43.99999999999999, 53.59999943, 103.5, 49.69999981, 107.5000019, 115.59999848, 114.59999847, 76.69999981000001, 131.90000152, 18.10000038, 57.00000095, 84.90000152, 103.89999962, 91.89999961999999, 210.39999771, 33.599999905, 136.80000114999999, 91.60000038000001, 67.90000057, 53.500000001000004, 59.799999240000005, 112.60000038000001, 40.300001140000006, 95.89999961999999, 115.89999962, 176.99999618, 41.599999905999994, 243.10000229, 29.799999713000002, 92.69999886, 128.5, 66.10000038, 140.0, 59.20000076, 175.89999961, 59.5, 38.200000764, 23.500000001, 93.20000076000001, 136.60000039, 136.80000114, 85.0, 50.89999962, 69.20000076, 111.60000228000001, 48.199998857, 47.90000057100001, 67.70000171000001, 49.800000663999995, 44.000000001000004, 38.09999848, 57.89999962, 52.299999241, 32.89999962, 126.5, 164.49999619000002, 144.0, 7.3000000720000005, 117.89999772, 74.09999943, 245.70000076, 46.699999809999994, 94.59999943, 257.09999847, 258.89999771, 90.5, 119.20000076000002, 41.299999713999995, 17.100000143, 25.19999981, 90.40000151999999, 103.10000228000001, 70.59999848, 9.800000191, 98.10000037999998, 82.40000057, 76.5, 102.60000038000001], \"text\": [\"Albania\", \"Argentina\", \"Armenia\", \"Australia\", \"Austria\", \"Bahrain\", \"Barbados\", \"Belarus\", \"Belgium\", \"Belize\", \"Bosnia and Herzegovina\", \"Brazil\", \"Bulgaria\", \"Cabo Verde\", \"Canada\", \"Chile\", \"Colombia\", \"Costa Rica\", \"Croatia\", \"Cuba\", \"Cyprus\", \"Czech Republic\", \"Denmark\", \"Ecuador\", \"El Salvador\", \"Estonia\", \"Fiji\", \"Finland\", \"France\", \"Georgia\", \"Germany\", \"Greece\", \"Guatemala\", \"Guyana\", \"Hungary\", \"Iceland\", \"Ireland\", \"Israel\", \"Italy\", \"Jamaica\", \"Japan\", \"Kazakhstan\", \"Kuwait\", \"Latvia\", \"Lithuania\", \"Luxembourg\", \"Maldives\", \"Malta\", \"Mauritius\", \"Mexico\", \"Netherlands\", \"New Zealand\", \"Nicaragua\", \"Norway\", \"Oman\", \"Panama\", \"Paraguay\", \"Philippines\", \"Poland\", \"Portugal\", \"Puerto Rico\", \"Qatar\", \"Romania\", \"Russian Federation\", \"Serbia\", \"Singapore\", \"Slovenia\", \"South Africa\", \"Spain\", \"Suriname\", \"Sweden\", \"Switzerland\", \"Thailand\", \"Trinidad and Tobago\", \"Turkey\", \"Turkmenistan\", \"Ukraine\", \"United Arab Emirates\", \"United Kingdom\", \"United States\", \"Uruguay\", \"Uzbekistan\"], \"colorscale\": \"Viridis\", \"autocolorscale\": false, \"reversescale\": true, \"marker\": {\"line\": {\"color\": \"rgb(180,180,180)\", \"width\": 0.5}}, \"colorbar\": {\"autotick\": false, \"tickprefix\": \"\", \"title\": \"Unemployment Rate\"}}], {\"title\": \"Youth Unemployment Rate by Country from 2010 to 2014\"}, {\"showLink\": false, \"linkText\": \"Export to plot.ly\", \"plotlyServerURL\": \"https://plot.ly\"})});</script><script type=\"text/javascript\">window.addEventListener(\"resize\", function(){window._Plotly.Plots.resize(document.getElementById(\"bd5e7155-ef1e-43f1-b912-f8dfb9cfda0f\"));});</script>"
      ]
     },
     "metadata": {},
     "output_type": "display_data"
    }
   ],
   "source": [
    "# Plot unemployment rate in map\n",
    "\n",
    "data = [ dict(\n",
    "        type = 'choropleth',\n",
    "        locations = unemplgroup['Country'],\n",
    "        locationmode = 'country names',\n",
    "        z = unemplgroup['Unemployment_Rate'],\n",
    "        text = unemplgroup['Country'],\n",
    "       colorscale='Viridis',\n",
    "        autocolorscale = False,\n",
    "        reversescale = True,\n",
    "        marker = dict(\n",
    "            line = dict (\n",
    "                color = 'rgb(180,180,180)',\n",
    "                width = 0.5\n",
    "            ) ),\n",
    "        colorbar = dict(\n",
    "            autotick = False,\n",
    "            tickprefix = '',\n",
    "            title = 'Unemployment Rate'),\n",
    ")]\n",
    "\n",
    "layout = {\"title\":\"Youth Unemployment Rate by Country from 2010 to 2014\"}\n",
    "\n",
    "\n",
    "fig = dict( data=data, layout=layout )\n",
    "plotly.offline.iplot( fig, validate=False, filename='loans-world-map')"
   ]
  },
  {
   "cell_type": "markdown",
   "metadata": {},
   "source": [
    "We can clearly Identify the most country that has the most unemployment rate which are Spian, South Africa and Serbia as pointed in the map with darck blue colore. On the other hand, the least country with least unemployment rate is Qatar with only 7.3"
   ]
  },
  {
   "cell_type": "code",
   "execution_count": null,
   "metadata": {},
   "outputs": [],
   "source": []
  },
  {
   "cell_type": "code",
   "execution_count": null,
   "metadata": {},
   "outputs": [],
   "source": []
  }
 ],
 "metadata": {
  "kernelspec": {
   "display_name": "Python 3",
   "language": "python",
   "name": "python3"
  },
  "language_info": {
   "codemirror_mode": {
    "name": "ipython",
    "version": 3
   },
   "file_extension": ".py",
   "mimetype": "text/x-python",
   "name": "python",
   "nbconvert_exporter": "python",
   "pygments_lexer": "ipython3",
   "version": "3.7.1"
  }
 },
 "nbformat": 4,
 "nbformat_minor": 2
}
